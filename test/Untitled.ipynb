{
 "cells": [
  {
   "cell_type": "code",
   "execution_count": 1,
   "metadata": {},
   "outputs": [],
   "source": [
    "from facebookCrawler.myClass import *\n",
    "p=FacebookDriver()"
   ]
  },
  {
   "cell_type": "code",
   "execution_count": 2,
   "metadata": {},
   "outputs": [],
   "source": [
    "p.get_browser(usr=\"\",pwd=\"\")"
   ]
  },
  {
   "cell_type": "code",
   "execution_count": 9,
   "metadata": {},
   "outputs": [
    {
     "data": {
      "text/plain": [
       "{'name': 'Radouen Hajji',\n",
       " 'Intro': \"Works at YouTube\\nStudied at E.S.E.N Manouba : Ecole Superieur de l'Economie Numerique\\nWent to ibn rochd\",\n",
       " 'friends': 0}"
      ]
     },
     "execution_count": 9,
     "metadata": {},
     "output_type": "execute_result"
    }
   ],
   "source": [
    "p.get_user_info(user_id=\"radouen.hajji\")"
   ]
  },
  {
   "cell_type": "code",
   "execution_count": 15,
   "metadata": {},
   "outputs": [
    {
     "data": {
      "text/plain": [
       "['https://scontent.ftun5-1.fna.fbcdn.net/v/t1.0-0/c0.23.206.206a/p206x206/117335927_3108236425960812_1258881486618015652_o.jpg?_nc_cat=105&_nc_sid=da31f3&_nc_ohc=3zq-Z4W8PaAAX8Y5CeD&_nc_ht=scontent.ftun5-1.fna&oh=5c66b859cbaee83472b65688f7828584&oe=5F81135B',\n",
       " 'https://scontent.ftun5-1.fna.fbcdn.net/v/t1.0-0/c80.0.206.206a/p206x206/116754773_3100054890112299_4359019110975476218_o.jpg?_nc_cat=100&_nc_sid=da31f3&_nc_ohc=ZFeMhLKXrVUAX8y3Yoi&_nc_ht=scontent.ftun5-1.fna&oh=55c3ceb2944ffc217f4e5dcc093cfabc&oe=5F80F634',\n",
       " 'https://scontent.ftun5-1.fna.fbcdn.net/v/t1.0-0/p206x206/80670004_2565458270238633_7205321330013503488_o.jpg?_nc_cat=105&_nc_sid=da31f3&_nc_ohc=-ExxqyN43RwAX9Y_yKc&_nc_oc=AQnm1LqOkT1yBJrOq-W9RmCnm1RKebuzdWIeVtvK57HYdx6aUyulwoKn5aHtHQ8GAxI&_nc_ht=scontent.ftun5-1.fna&tp=6&oh=dce385ef8850c62a3cf29b79318c1c94&oe=5F7FF288',\n",
       " 'https://scontent.ftun5-1.fna.fbcdn.net/v/t1.0-0/c0.0.206.206a/p206x206/49666992_1962943253823474_323609018201276416_n.jpg?_nc_cat=109&_nc_sid=da31f3&_nc_ohc=lv9XMAT70cYAX89Cds-&_nc_ht=scontent.ftun5-1.fna&oh=071e28375a63e25866d833ed75a488d9&oe=5F7EC7B0',\n",
       " 'https://scontent.ftun5-1.fna.fbcdn.net/v/t1.0-0/c0.23.206.206a/p206x206/49251665_1959438294173970_6848940212400160768_o.jpg?_nc_cat=101&_nc_sid=da31f3&_nc_ohc=ILI0GKSBchcAX-ce0Rm&_nc_oc=AQkJRrALo2MHUfqROG4r58_m3T-yUyGLfFNT2uIRp0wNN07bW6xi88Av9hb9BfXuTNo&_nc_ht=scontent.ftun5-1.fna&oh=fade5cfdaa9c0b543f5403a34b75f575&oe=5F7E23C9',\n",
       " 'https://scontent.ftun5-1.fna.fbcdn.net/v/t1.0-0/c0.0.206.206a/p206x206/41968161_1813742672076867_381320390678413312_o.jpg?_nc_cat=100&_nc_sid=da31f3&_nc_ohc=sf2WVVd0_IMAX_RygWE&_nc_ht=scontent.ftun5-1.fna&oh=16e02be6b7cf9b94fd5acc7664f2d891&oe=5F7F6F88',\n",
       " 'https://scontent.ftun5-1.fna.fbcdn.net/v/t1.0-0/c10.0.204.204a/p235x165/40911490_1798025020315299_6204680884478541824_n.jpg?_nc_cat=109&_nc_sid=da31f3&_nc_ohc=3B6rxWZRVRQAX-7VZ1e&_nc_ht=scontent.ftun5-1.fna&oh=6099c9d77bab525063ccd6ab95a4d5fc&oe=5F808D29',\n",
       " 'https://scontent.ftun5-1.fna.fbcdn.net/v/t1.0-0/c34.0.206.206a/p206x206/36509823_1698564006928068_1924720990189780992_o.jpg?_nc_cat=101&_nc_sid=da31f3&_nc_ohc=G9z3LrIw7DEAX80EDBY&_nc_ht=scontent.ftun5-1.fna&oh=6ec998a439814ab78d582520c11ee1a2&oe=5F80D897']"
      ]
     },
     "execution_count": 15,
     "metadata": {},
     "output_type": "execute_result"
    }
   ],
   "source": [
    "p.get_images(user_id=\"radouen.hajji\",n=10)"
   ]
  },
  {
   "cell_type": "code",
   "execution_count": 5,
   "metadata": {},
   "outputs": [
    {
     "data": {
      "text/plain": [
       "('May 22\\nBirth Date', 'Male')"
      ]
     },
     "execution_count": 5,
     "metadata": {},
     "output_type": "execute_result"
    }
   ],
   "source": [
    "p.get_basic_info(user_id=\"radouen.hajji\")"
   ]
  },
  {
   "cell_type": "code",
   "execution_count": 4,
   "metadata": {},
   "outputs": [
    {
     "data": {
      "text/plain": [
       "{'name': 'Mohamed Moha',\n",
       " 'Intro': 'Works at Technicien supérieur en réseaux informatiques et télécommunications\\nLives in Tunisi, Aryanah, Tunisia',\n",
       " 'friends': '168'}"
      ]
     },
     "execution_count": 4,
     "metadata": {},
     "output_type": "execute_result"
    }
   ],
   "source": [
    "p.get_user_info(user_id=\"houssin.nefzi.58\")"
   ]
  },
  {
   "cell_type": "code",
   "execution_count": 19,
   "metadata": {},
   "outputs": [],
   "source": [
    "c=p.get_friends(user_id=\"houssin.nefzi.58\",nb_friends=168)"
   ]
  },
  {
   "cell_type": "code",
   "execution_count": 3,
   "metadata": {},
   "outputs": [
    {
     "data": {
      "text/plain": [
       "[{'name': 'JOKER ESEN', 'link': 'https://www.facebook.com/JokerEsen.JE/'},\n",
       " {'name': 'Game Zone Ariana',\n",
       "  'link': 'https://www.facebook.com/gamezoneariana/'},\n",
       " {'name': 'الزروالي جمال- zerouali jamal',\n",
       "  'link': 'https://www.facebook.com/jamalzeroualiofficiel/'},\n",
       " {'name': 'CLUB DES Sciences- lycee Hached Maktar.',\n",
       "  'link': 'https://www.facebook.com/CLUB-DES-Sciences-lycee-Hached-Maktar-431845986973775/'},\n",
       " {'name': 'صفحة ميمز رديئة الجودة ذو اسم طويل ستقلب حياتك رأس على عقب',\n",
       "  'link': 'https://www.facebook.com/%D8%B5%D9%81%D8%AD%D8%A9-%D9%85%D9%8A%D9%85%D8%B2-%D8%B1%D8%AF%D9%8A%D8%A6%D8%A9-%D8%A7%D9%84%D8%AC%D9%88%D8%AF%D8%A9-%D8%B0%D9%88-%D8%A7%D8%B3%D9%85-%D8%B7%D9%88%D9%8A%D9%84-%D8%B3%D8%AA%D9%82%D9%84%D8%A8-%D8%AD%D9%8A%D8%A7%D8%AA%D9%83-%D8%B1%D8%A3%D8%B3-%D8%B9%D9%84%D9%89-%D8%B9%D9%82%D8%A8-337174876787873/'},\n",
       " {'name': 'حصن المسلم من أذكار الكتاب والسنةوالقصص الاسلامية',\n",
       "  'link': 'https://www.facebook.com/HsnAlmslmMnAdhkarAlktabWalsnt/'},\n",
       " {'name': 'أحباب رسول الله',\n",
       "  'link': 'https://www.facebook.com/www.ahbabrasolalah/'},\n",
       " {'name': 'كل ما يخص مناظرات وزارة الداخلية و الدفاع الوطني',\n",
       "  'link': 'https://www.facebook.com/%D9%83%D9%84-%D9%85%D8%A7-%D9%8A%D8%AE%D8%B5-%D9%85%D9%86%D8%A7%D8%B8%D8%B1%D8%A7%D8%AA-%D9%88%D8%B2%D8%A7%D8%B1%D8%A9-%D8%A7%D9%84%D8%AF%D8%A7%D8%AE%D9%84%D9%8A%D8%A9-%D9%88-%D8%A7%D9%84%D8%AF%D9%81%D8%A7%D8%B9-%D8%A7%D9%84%D9%88%D8%B7%D9%86%D9%8A-179010032297723/'},\n",
       " {'name': 'Facebook app',\n",
       "  'link': 'https://www.facebook.com/facebookappAfrica/'},\n",
       " {'name': 'ESEN Manouba - L.F En Informatique De Gestion LFIG',\n",
       "  'link': 'https://www.facebook.com/ESEN.LFIG/'}]"
      ]
     },
     "execution_count": 3,
     "metadata": {},
     "output_type": "execute_result"
    }
   ],
   "source": [
    "p.get_likes(user_id=\"radouen.hajji\",scroll=3,n=10)"
   ]
  },
  {
   "cell_type": "code",
   "execution_count": 3,
   "metadata": {},
   "outputs": [
    {
     "data": {
      "text/plain": [
       "{'Innovation Camp': {'nb_people': '179 people responded',\n",
       "  'date': 'Thursday, December 5, 2019 at 1:30 PM – 5 PM',\n",
       "  'lieu': \"Ecole Supérieure d'ECONOMIE NUMÉRIQUE - Université de Manouba- Tunis\",\n",
       "  'info': 'Public · Hosted by JOKER ESEN',\n",
       "  'details': \"L'entrepreneuriat est un monde imprédictible et souvent soumis à des changements organisationnels. Dans ce contexte, il est essentiel de développer votre influence de leadership po… See More\\nOther\"},\n",
       " 'Formation Business Intelligence': {'nb_people': '334 people responded',\n",
       "  'date': 'Wednesday, November 15, 2017 at 3 PM – 5 PM',\n",
       "  'lieu': 'Essect',\n",
       "  'info': 'Public · Hosted by Essect Microsoft Club',\n",
       "  'details': 'ESSECT Microsoft Club a le plaisir de vous annoncer le lancement de sa première session de formation : Business intelligence.\\nThe business intelligence ( Informatique décisionnelle… See More'}}"
      ]
     },
     "execution_count": 3,
     "metadata": {},
     "output_type": "execute_result"
    }
   ],
   "source": [
    "p.get_events(user_id=\"radouen.hajji\",scroll=1,n=2)"
   ]
  },
  {
   "cell_type": "code",
   "execution_count": 3,
   "metadata": {},
   "outputs": [
    {
     "data": {
      "text/plain": [
       "{'post1': {'user': 'Radouen Hajji',\n",
       "  'date': 'August 5',\n",
       "  'contenu': 'Monkey.D.Luffy',\n",
       "  'image': 'https://scontent.ftun6-1.fna.fbcdn.net/v/t1.0-0/p526x296/117335927_3108236425960812_1258881486618015652_o.jpg?_nc_cat=105&_nc_sid=8bfeb9&_nc_ohc=cZUuY8qYvYgAX-lRfqn&_nc_ht=scontent.ftun6-1.fna&tp=6&oh=a1a2e2ffe4dfda1791784d7835ff232b&oe=5F86E6DE',\n",
       "  'nb_reaction': '10',\n",
       "  'nb_comment': '3 Comments'},\n",
       " 'post2': {'user': 'Radouen Hajji',\n",
       "  'date': 'August 2',\n",
       "  'contenu': 'Beginning With Illustrator\\nTrying To draw anime Character\\n#IZUKU MIDORIYA',\n",
       "  'image': 'https://scontent.ftun6-1.fna.fbcdn.net/v/t1.0-0/p180x540/116754773_3100054890112299_4359019110975476218_o.jpg?_nc_cat=100&_nc_sid=730e14&_nc_ohc=czit_6VhRSgAX-a1HkP&_nc_ht=scontent.ftun6-1.fna&tp=6&oh=0f92374ede42c10fe758c154c3dc7955&oe=5F8635C3',\n",
       "  'nb_reaction': '10',\n",
       "  'nb_comment': '4 Comments'},\n",
       " 'post3': {'user': 'Radouen Hajji',\n",
       "  'date': 'July 31',\n",
       "  'contenu': '',\n",
       "  'image': 'No image',\n",
       "  'nb_reaction': '21',\n",
       "  'nb_comment': '2 Comments'}}"
      ]
     },
     "execution_count": 3,
     "metadata": {},
     "output_type": "execute_result"
    }
   ],
   "source": [
    "p.get_publications(user_id=\"radouen.hajji\",comments=\"F\",n=3)"
   ]
  },
  {
   "cell_type": "code",
   "execution_count": 4,
   "metadata": {},
   "outputs": [
    {
     "data": {
      "text/plain": [
       "{'post1': {'user': 'Radouen Hajji',\n",
       "  'date': 'August 5',\n",
       "  'contenu': 'Monkey.D.Luffy',\n",
       "  'image': 'https://scontent.ftun6-1.fna.fbcdn.net/v/t1.0-0/p526x296/117335927_3108236425960812_1258881486618015652_o.jpg?_nc_cat=105&_nc_sid=8bfeb9&_nc_ohc=cZUuY8qYvYgAX-lRfqn&_nc_ht=scontent.ftun6-1.fna&tp=6&oh=a1a2e2ffe4dfda1791784d7835ff232b&oe=5F86E6DE',\n",
       "  'nb_reaction': '10',\n",
       "  'nb_comment': '3 Comments',\n",
       "  'comments': [['Karim Belarbi', 'Good job', '5w'],\n",
       "   ['Sarah Hadji', '', '5w'],\n",
       "   ['Sarah Hadji', \"I'm proud of you darling\", '5w']]},\n",
       " 'post2': {'user': 'Radouen Hajji',\n",
       "  'date': 'August 2',\n",
       "  'contenu': 'Beginning With Illustrator\\nTrying To draw anime Character\\n#IZUKU MIDORIYA',\n",
       "  'image': 'https://scontent.ftun6-1.fna.fbcdn.net/v/t1.0-0/p180x540/116754773_3100054890112299_4359019110975476218_o.jpg?_nc_cat=100&_nc_sid=730e14&_nc_ohc=czit_6VhRSgAX-a1HkP&_nc_ht=scontent.ftun6-1.fna&tp=6&oh=0f92374ede42c10fe758c154c3dc7955&oe=5F8635C3',\n",
       "  'nb_reaction': '10',\n",
       "  'nb_comment': '4 Comments',\n",
       "  'comments': [['Ahlem Hajji Saadani', 'An accomplished painter', '6w']]},\n",
       " 'post3': {'user': 'Radouen Hajji',\n",
       "  'date': 'July 31',\n",
       "  'contenu': '',\n",
       "  'image': 'No image',\n",
       "  'nb_reaction': '21',\n",
       "  'nb_comment': '2 Comments',\n",
       "  'comments': [['Fatma Hadji',\n",
       "    'وعليك يا رضوان الغالي ربي يحرسك و ربي يسونك يا غالي',\n",
       "    '6w'],\n",
       "   ['Fatma Hadji', '', '6w']]}}"
      ]
     },
     "execution_count": 4,
     "metadata": {},
     "output_type": "execute_result"
    }
   ],
   "source": [
    "p.get_publications(user_id=\"radouen.hajji\",comments=\"T\",n=3)"
   ]
  },
  {
   "cell_type": "code",
   "execution_count": 4,
   "metadata": {},
   "outputs": [
    {
     "data": {
      "text/plain": [
       "[{'name': 'ADA Condé',\n",
       "  'date': 'Aug 4\\n  ·\\n  ·',\n",
       "  'content': 'Aug 4\\n  ·\\n  · Donc Garçon Aussi Ya Son pute Quoi ?toi seul tu gères 10 meufs 😥 Mon frère tu es Avion ?😂'},\n",
       " {'name': 'Vews - RTBF',\n",
       "  'date': 'Aug 25\\n  ·\\n  ·',\n",
       "  'content': 'Aug 25\\n  ·\\n  · \"Ouais, je suis une pute et ce n\\'est pas un gros mot.\" Travailleuse du sexe et féministe, c\\'est compatible? Lola Red le défend, elle nous explique pourquoi.\\n  · Lola Red, pute et féministe'},\n",
       " {'name': 'Suzuki Team',\n",
       "  'date': 'Aug 19\\n  ·\\n  ·',\n",
       "  'content': 'Aug 19\\n  ·\\n  · …A LE DROIT D’ÊTRE SEXY SANS ÊTRE TRAITER DE PUTE 🤜🤛 #Suzuki #Gsxr'},\n",
       " {'name': 'TOURE HAWA PAGE',\n",
       "  'date': 'Jul 13\\n  ·\\n  ·',\n",
       "  'content': 'Jul 13\\n  ·\\n  · …bien habillément de fima kom une pute wowiii la famille bordel bougou.tori mami diakite madame vent sec 😂😂😂😂😂\\n  · Malika famille en action'},\n",
       " {'name': 'NONDI KHA FALA',\n",
       "  'date': 'Jul 19\\n  ·\\n  ·',\n",
       "  'content': \"Jul 19\\n  ·\\n  · La pute #Marino est de retour Elle est déterminée à jamais à régler ses comptes avec #MC 🤼🤼🤼🤼🤼🤼🤼\\n  · Marino vs MC La pute Marino est de retour Le combat est loin d'être terminé Féroce comme jamais\"},\n",
       " {'name': 'Libère-toi de tes chaînes',\n",
       "  'date': 'Aug 5\\n  ·\\n  ·',\n",
       "  'content': \"Aug 5\\n  ·\\n  · Tu sais, la vie n'est pas parfaite ! Alors oui tu vas tomber, te casser la gueule, tu vas chuter... Tu vas avoir les genoux à terre, les mains dans la poussière... Tu te feras écraser, marcher dessus... Et tu prendras des coups ! Des coups de poings, des coups de pieds, des coups de pute, des coups de tonnerre, des coups de soleil... Mais aussi des coups de cœur, des coups de foudre, des coups de merveilles, et surtout des coups d'amour, des coups de je t'aime ! Et en parlant de ça... je t'aime ❤️ ~Auteur inconnu\"},\n",
       " {'name': 'Brut',\n",
       "  'date': 'Jul 25\\n  ·\\n  ·',\n",
       "  'content': 'Jul 25\\n  ·\\n  · \"Salope\", \"Chienne\", \"Pute\"... D\\'où viennent ces insultes sexistes et qu\\'est-ce qu\\'elles veulent dire ? On a demandé à Laurence Rosier, professeure de linguistique.\\n  · D\\'où viennent les insultes sexistes ?'},\n",
       " {'name': 'Altwawn - Actualités des Comores',\n",
       "  'date': 'Aug 7\\n  ·\\n  ·',\n",
       "  'content': 'Aug 7\\n  ·\\n  · Après les fils de pute ... place aux putes.'},\n",
       " {'name': 'Brut',\n",
       "  'date': 'Jul 27\\n  ·\\n  ·',\n",
       "  'content': 'Jul 27\\n  ·\\n  · \"Il m\\'a giflée dans un train bondé de monde. Personne n\\'a réagi.\" Ça, c\\'est l\\'un des milliers de témoignages recueillis par Emanouela, qui a créé le compte Instagram \"Dis bonjour sale pute\" après avoir été elle-même victime de harcèlement de rue. Voilà pourquoi elle a décidé d\\'en parler.\\n  · Ce compte Instagram recense les témoignages de femmes victimes de harcèlement de rue'},\n",
       " {'name': \"Plume d'Elsa\",\n",
       "  'date': 'Aug 6\\n  ·\\n  ·',\n",
       "  'content': 'Aug 6\\n  ·\\n  · …au sol. - Tu es sortie faire ta pute et tu reviens chez moi accompagnée des garces de ton espèce ? Crie-t-il Je le regarde et je ne vois qu\\'un monstre habillé en GUCCI, n\\'est-ce pas la réalité de beaucoup de femmes ? Se taire et supporter ? N\\'est-ce pas ça être une bonne fille bien élevée ? En 27 années de vie, aucun homme n\\'avait pu jamais lever les mains sur moi, j\\'étais heureuse mais cette image de moi ne plaisait pas aux saints et saintes de la société. Mais maintenant que je me fais tabasser, écraser, maintenant que je me sens souiller, et malheureuse, je suis la femme digne, la femme responsable et respectable. Au sol, je lève les yeux au ciel et intérieurement je jure lui rendre chaque coup reçu. - Tu es une garce, pour qui te prends-tu pour me narguer ? Que penses-tu que tes copines peuvent me faire ? Tu penses que leur présence justifie ton absence ? Continue-t-il Je tente de me relever en tenant le poignet du portail - J\\'étais à la boutique de Jennifer, je... - Laisse-moi parler, aujourd\\'hui je te dirai ce que je pense réellement de toi, qu’est-ce que tu crois ? Tu crois qu\\'un autre homme voudrait de toi ? Tu as passé toute ta vie à te vendre aux plus offrants. Je sais tout de toi, je savais déjà tout de toi avant de t\\'aborder. Tu couches avec les hommes qui ont déjà l\\'âge de ton père et tu leur soutires de l\\'argent, et quand ils ne te sont plus utiles tu les jettes... Je l\\'écoute et je souris intérieurement. Les paroles de Ya Alima font écho dans ma tête.... \"Ils te font croire qu\\'ils te rendent un service en étant avec toi\" - Tu n\\'as aucune dignité, je suis au courant de ce que tu as fait à ton ex, Comment tu l\\'as lâchement abandonné. Si tu penses pouvoir faire pareil avec moi, tu te trompes, je t\\'écraserai comme une mouche. Jamais plus, je ne me ferai cocufier, tu veux savoir pourquoi je suis entré dans ta vie ? Me demande-t-il me tenant par le menton. Je relève le menton dignement et je l\\'observe - Tu as couché avec mon père Nate Kambiri. Oui, je suis le fils de cet homme que tu as presque ruiné avec tes envies de luxe, n\\'eut été ma vigilance, toute ma famille serait aujourd\\'hui à la rue ! Et puis voilà, comme l\\'effet d\\'une bombe, je retombe lourdement sur mes genoux, Yann est le fils de Nate Kambiri ? Pourtant... - Tu m\\'avais dit t\\'appeler Leroy je bégaie... - Leroy c\\'est le nom de ma mère, je me suis mis avec toi pour me venger même si j\\'ai fini par t\\'aimer. Je garde un silence radio et je le fixe dans les yeux. Seigneur, je me suis fait avoir comme une débutante. Cette nouvelle est comme un poignant dans mon cœur et dans mon âme. J\\'ai donc abandonné ma vie pour ça ? Mon indépendance, ma joie de vivre ? Pour quelqu\\'un qui veut se venger de moi ? Je n\\'ai à présent qu\\'une seule envie, celle de le blesser dans son orgueil comme il le fait avec moi. - Ton père, Nate, il est un meilleur coup au lit que toi. dis-je d\\'une voix forte. Avec lui, je prends mon..... Il me donne un coup de poing violent au visage, mes yeux s\\'injectent de sang, je le regarde avec haine alors il me pousse au sol et commence à me donner des coups de pieds au ventre. Je le laisse faire, ma douleur est plus interne que physique. A un moment donné, j\\'ai cessé de compter les coups et je me suis recroquevillée sur moi-même, pendant combien de temps…Je l\\'ignore. Une fois réveillée, je me traîne jusqu\\'à la salle de bain, je prends un bain douloureux, passe une légère robe, je bois un antidouleur, et me fais une tasse de thé. Je me mets au lit et je sombre dans un sommeil agité. Demain est un autre jour Le lendemain, je me réveille toute seule dans le lit, je cherche mon carnet d\\'adresses, et commence à passer quelques coups de fil. J\\'ignore combien de temps s\\'est écoulé entre mes coups de fil et mon réveil, mais je suis plus que jamais décidée à en finir avec Yann ; S’il savait réellement qui j\\'étais et de quoi j\\'étais capable il se serait abstenu de me révéler ses intentions. Après deux heures de ménage pour évacuer ma colère, je sors une de mes valises, j\\'ouvre grandement la fenêtre pour faire entrer un peu d\\'air frais, je vide le premier battant de l\\'armoire et remplit ma valise, je la glisse sous le lit et là je tombe sur une œuvre d\\'art que j\\'avais fait peint pour Yann, ce tableau représente un couple nu enlacé. Je l\\'accroche à la tête du lit, je vais dans la salle de bain et je ramasse mes flacons de parfums kenzo, hermès, dior, mes laits de corps que je range soigneusement dans une valisette. L\\'appel de mon très cher ami avocat mit fin à mes travaux domestiques. Les nouvelles qu\\'il me donna me fortifient. Je passe un coup de fil à Jennifer pour lui faire le point. - Tu ne vas pas me croire ! Dès demain, j’aurai son dossier complet sur l\\'affaire de son ex en Afrique du Sud, j\\'informe Jennifer. - Comment est-ce possible ? Qu\\'as-tu fais pour réussir ce coup de maître en si peu d\\'heures ?crie Jennifer - Je suis Athenaïs, tu me connais j\\'obtiens toujours ce que je veux... - Avec Nathalie, nous serons avec toi dans quelques heures pour finaliser le plan propose Jennifer - Venez vite mes chéries. Nous ne savons pas quand ce fou furieux va revenir. Ya Alima est déjà en route de toute façon. - T\\'inquiète ma belle, nous venons le plus tôt possible, le commissaire et le peintre ont besoin des photos de ton corps - N\\'oublie pas le nécessaire pour la crédibilité des photos, rappellai-je à Jennifer - Fais-nous confiance, Nathalie est une maquilleuse professionnelle me rassure Jenny - Tout doit être parfait, je vais te laisser chérie, on sonne au portail c\\'est sûr que c\\'est Ya Alima - Ton plan est machiavélique conclut Jennifer - Je suis machiavélique. *****Yann***** Je sens ma vie glisser entre mes doigts tel du sable marin une fois encore. Je pensais être suffisamment guéri mais le mal continue de me harceler. Depuis quelques heures, je revois tous les événements du passé. Je les revois, mon ex meilleur ami Janice et mon ex fiancée Deborah dans mon lit, en train de s\\'envoyer en l\\'air et je me revois tremblant de la tête aux pieds et perdant le contrôle. Le pire était survenu. C’est par Léon que j\\'avais appris des mois plus tard que Deborah vivait en France avec des séquelles dû à mes coups dans son abdomen. Quand à Janice mon ex-ami malheureusement, il a succombé. Je dois ma liberté à mon père qui a su jouer de ses relations pour me faire quitter clandestinement l\\'Afrique du Sud au moment du drame, afin de m\\'éviter la prison. Mais, si jamais le pire se reproduit cette fois-ci, je pense qu\\'il me passera les menottes lui-même. J\\'avance à pas de loups vers ma maison, scrutant les horizons, pour détecter tout mouvement suspect mais tout semble calme comme à l\\'accoutumée. L\\'idée de me retrouver en face d\\'elle me fout la trouille mais à la seule pensée qu\\'elle pouvait être morte, je suis terrifié. J\\'ai fui pendant 10 jours ! 10 jours où j’ai erré sans but allant d\\'hôtel en hôtel. J\\'espère sincèrement lui avoir manqué comme, elle m\\'a manqué. Je sais qu\\'elle m\\'aime suffisamment pour me pardonner et oublier ce petit faux pas. Je ne rêve que d\\'une seule chose: ma peau sur sa peau, mes lèvres sur les siennes, mon corps contre son corps. Perdu dans mes pensées, je traverse le portail qui n\\'est d\\'ailleurs pas fermé à clé rapidement et je me retrouve au salon, il y règne un calme plat. Je marche vite vers la chambre principale sans prêter attention à ce qui m\\'entoure. M\\'a-t-elle quitté en laissant ma maison vide ? Je sens son parfum dans toute la chambre et je pousse un ouf de soulagement, au-dessus de la tête de notre lit est accroché le joli tableau qu\\'elle m\\'avait offert. Je souris, content, c\\'est sûr qu\\'elle cherche un moyen de se faire pardonner. Mais, mon sourire se fige quand mes yeux tombent sur un autre tableau accroché à l\\'opposé du premier. Une œuvre d\\'art très vivante qui représente une femme allongée dans un bain de sang. Mais ce qui m\\'intrigue est le visage de la femme, sa ressemblance avec Déborah est stupéfiante. Mon cœur tambourine dans ma poitrine et je sors de la chambre, Le mur du couloir est peint en rouge sang et affiche l\\'inscription \"Non à la violence faite aux femmes\". Je reste abasourdi et les souvenirs affluent dans ma tête. C’est à cet endroit précis que j\\'avais giflé Athenaïs la première fois. Je prends ma tête entre mes deux mains et je visualise la situation. Et je cherche à comprendre le message qu\\'elle veut me faire passer. Je soulève ma tête et je gèle sur place. Athenaïs, habillée d\\'un débardeur rouge, un mini short et des baskets rouges est devant moi plus sexy que jamais. Derrière elle se tiennent ses deux copines habillées de la même manière. Mais je n\\'ai d\\'yeux que pour ma déesse. Elle est tout ce qui m\\'enflamme. Distrait par sa présence silencieuse, je n\\'ai pas vite vu deux géants hommes sortis de nulle part, me ligoter les bras dans le dos. - C\\'est bon les mecs, nous nous occuperons du reste. Dit Athenaïs Sa voix calme et sensuelle me sort de mon évasion. Comme un cheval, elle me traîne avec l\\'aide de ses copines au portail, à l\\'endroit exact où je l\\'avais laissé il y a 10 jours. Elle tend les mains et la grosse vache qui lui sert de copine lui tend une lanière à base de peau de mouton. - Écoute chérie, je suis venu te demander pardon, tentai-je de lui dire Le premier coup sur mon dos me coupe la parole. Le deuxième et le troisième me font transpirer à grosses gouttes. Les trois filles se relaient et me frappent pendant plus de 20mn. Perdant ma dignité d\\'homme, je commence à couler des larmes tandis que Jennifer me filme avec son iPhone. Je tente de me relever mais impossible, car en plus de mes mains déjà prisonnières les deux imbéciles viennent de m\\'attacher les pieds. Silencieuses toutes les trois, elles m\\'aident à m\\'installer sur une chaise et Jennifer dépose son téléphone. Athenaïs, couteau en main se rapproche de moi, me soulève le menton comme j\\'ai l\\'habitude de le lui faire. - Tu vas signer tous les papiers que je vais te présenter. Il s\\'agit d\\'une petite somme que je t\\'ai fixé comme compensation pour préjudice moral, le second papier c\\'est pour coups et blessures volontaires, le troisième c\\'est pour non-assistance à personne en danger, et les conventions de vente, c\\'est parce que tu m\\'as vendu la maison débite Athenaïs calmement. Je reste silencieux, je ne l\\'écoute pas trop en réalité. Je vois juste ses lèvres remuées et des pensées perverses me traversent l\\'esprit. - Et si tu ne signe pas tous ses documents, tu te retrouveras sur tous les réseaux sociaux. Non seulement la famille de ton ex te retrouvera, nous publierons ta bastonnade, et tu finiras ta vie en prison pour le meurtre de ton ex meilleur ami. Bref, ta vie sera un véritable enfer Ajoute Jennifer - Nous avons également enquêté sur tes affaires et tu es loin d\\'être le monsieur propre que tu prétends être. Renchérit la grosse - Oh... J\\'ai oublié de te le dire… j’ai couché avec toute la chaîne judiciaire, du commissaire au ministre de la justice, donc tu n\\'as aucune chance de t\\'en sortir. Mais je ne peux te promettre une seule petite chose, sous la couette, je pourrai convaincre ton père de te rendre visite en prison. Après tout, tu demeures mon beau fils. Une colère sourde m\\'anime, je les regarde et je lis dans leurs yeux une pulsion meurtrière. - Je suis Ya Alima. J\\'aurais aimé te dire tellement de choses mais je ne peux que te donner un petit conseil. Signe les documents et disparais mon fils, l\\'affaire ci te dépasse. Tu ne sais pas réellement où tu as mis les pieds. Chaque fois que tu voudras frapper une femme rappelle-toi de cette phrase : « Ta femme ne t\\'appartient pas car n\\'étant pas une chose, elle est un être à part entière. Ne cherche ni à la changer ni à la comprendre, contente toi de l\\'aimer telle qu\\'elle est. Si de toute évidence, son passé te dérange prends ton chemin et laisse la vivre sa vie. Frapper une femme fait de toi un homme faible, frustré et malheureux ». Sa voix me fait trembler comme une feuille morte. Qui est cette femme ? - Donnez-moi ces papiers rétorquai-je furieux - Les deux gorilles apparaissent et me détachent les mains. Je signe tous les papiers et ils me ligotent à nouveau et me jettent dehors.'}]"
      ]
     },
     "execution_count": 4,
     "metadata": {},
     "output_type": "execute_result"
    }
   ],
   "source": [
    "p.get_comment_by_key(\"pute\",10)"
   ]
  },
  {
   "cell_type": "code",
   "execution_count": 4,
   "metadata": {},
   "outputs": [
    {
     "data": {
      "text/plain": [
       "{'page_info': [],\n",
       " 'post1': {'user': 'ESEN Manouba - L.F En Informatique De Gestion LFIG',\n",
       "  'date': 'August 8, 2018',\n",
       "  'contenu': 'مازلت كعرفت إلي إنت بش تقرا في الESEN و ماعندك علها حتى فكرة ؟\\nراك قاعد تسال في روحك شنيا الأفاق إلي فيها ؟\\nشنيا القراية إلي فيها ؟\\nشمعنها appliquée و fondamentale و شنيا الفرق بناتهم؟\\nشنيا الفرق ما بين ال-Lycée و ال-Fac ؟ و شنيا إلي تبدل؟… See More',\n",
       "  'image': 'https://scontent.ftun6-1.fna.fbcdn.net/v/t45.1600-4/cp0/q90/spS444/s526x296/38541896_23842857749640147_5655341167022178304_n.png.jpg?_nc_cat=111&_nc_sid=67cdda&_nc_ohc=Ln7YJNivvBIAX88mhTg&_nc_ht=scontent.ftun6-1.fna&oh=0aeceb2366efeeb573ac5b1b0f1d999e&oe=5F8718D4',\n",
       "  'nb_reaction': '9',\n",
       "  'nb_comment': '3 Comments\\n2 Shares',\n",
       "  'comments': []},\n",
       " 'post2': {'user': 'ESEN Manouba - L.F En Informatique De Gestion LFIG',\n",
       "  'date': 'July 19, 2018',\n",
       "  'contenu': 'التوجيه بدا و ماعندكش فكرة على الإعلامية المطبقة في التصرف في المدرسة العليا للإقتصاد الرقمي بمنوبة , أحنا موجودين بش نعاونوك تتعرف على الجامعة متاعنا ',\n",
       "  'image': 'No image',\n",
       "  'nb_reaction': '12',\n",
       "  'nb_comment': '1 Comment',\n",
       "  'comments': [['Houida Hj',\n",
       "    'https://www.youtube.com/watch?v=LS70h5D9FIk formatin en GRH',\n",
       "    '34w']]},\n",
       " 'post3': {'user': 'ESEN Manouba - L.F En Informatique De Gestion LFIG',\n",
       "  'date': 'April 2, 2018',\n",
       "  'contenu': \"نادي Insat Android CLUB أول نادي Android بدا يخدم في تونس \\nو الDroid'Day الevent الي يصير في نسختو السابعة و الي ككل عام برنامجو ياسر ثري و معبي كيما توقعناه !\\nالDroid'Day بش يصير إن شاء الله على نهار كامل فالINSAT و يبدا من 9H\\nأدخلو للEvent بش تعرفو أكثر معلومات على الConférenciers الي ش يجيو !\\n#DroidDay7.0 #2K18 #INSAT_Android_Club\",\n",
       "  'image': 'No image',\n",
       "  'nb_reaction': '4',\n",
       "  'nb_comment': '',\n",
       "  'comments': []}}"
      ]
     },
     "execution_count": 4,
     "metadata": {},
     "output_type": "execute_result"
    }
   ],
   "source": [
    "p.get_page(\"ESEN.LFIG\",2,\"T\")"
   ]
  },
  {
   "cell_type": "code",
   "execution_count": 3,
   "metadata": {},
   "outputs": [
    {
     "data": {
      "text/plain": [
       "{'page_info': ['',\n",
       "  'Visit Website\\nhttps://www.facebook.com/www.ahbabrasolalah/',\n",
       "  'قال رسول الله (ص ) اذا مات بن آدم انقطع عمله الأمن ثلاث صدقه جاريه او علم ينتفع به او ولد صالح يدعو له اللهم صلى وسلم وبارك عليه',\n",
       "  '1,291,234 people like this including 1 of your friends',\n",
       "  '1,512,717 people follow this',\n",
       "  '01280322891',\n",
       "  'Send Message',\n",
       "  'Community'],\n",
       " 'post1': {'user': 'أحباب رسول الله',\n",
       "  'date': '11h',\n",
       "  'contenu': '',\n",
       "  'image': 'https://scontent.ftun6-1.fna.fbcdn.net/v/t1.0-9/119597366_3681391505227259_2890982327034831744_n.jpg?_nc_cat=103&_nc_sid=8bfeb9&_nc_ohc=asdBvZGTi3gAX8hoJiH&_nc_ht=scontent.ftun6-1.fna&oh=67d43451e09fba7d9fe15878f0088a87&oe=5F875864',\n",
       "  'nb_reaction': '261',\n",
       "  'nb_comment': '31 Comments\\n59 Shares'},\n",
       " 'post2': {'user': 'أحباب رسول الله',\n",
       "  'date': '11h',\n",
       "  'contenu': '',\n",
       "  'image': 'https://scontent.ftun6-1.fna.fbcdn.net/v/t1.0-0/p180x540/119556894_3681273801905696_1406097123725319250_n.jpg?_nc_cat=110&_nc_sid=8bfeb9&_nc_ohc=oxUOLVPyf5EAX9U1dh6&_nc_oc=AQmZq_R9Y-6JFoG3buNi8CmXcASFiLD7-E04voEYNz9iwolO6jRvAXwUL9Uh_GMB8aw&_nc_ht=scontent.ftun6-1.fna&tp=6&oh=89b1ba8decd4499a61d2906b6ae1f535&oe=5F866824',\n",
       "  'nb_reaction': '340',\n",
       "  'nb_comment': '63 Comments\\n236 Shares'},\n",
       " 'post3': {'user': 'أحباب رسول الله',\n",
       "  'date': '11h',\n",
       "  'contenu': '',\n",
       "  'image': 'https://scontent.ftun6-1.fna.fbcdn.net/v/t1.0-9/s960x960/119482355_3519109598141022_5726905116897654644_o.jpg?_nc_cat=102&_nc_sid=8bfeb9&_nc_ohc=J4agsYhdo-4AX_FWcF_&_nc_ht=scontent.ftun6-1.fna&tp=7&oh=8334de01664b4ef7675bafc286cfb0c7&oe=5F86AD7C',\n",
       "  'nb_reaction': '126',\n",
       "  'nb_comment': '6 Comments\\n17 Shares'}}"
      ]
     },
     "execution_count": 3,
     "metadata": {},
     "output_type": "execute_result"
    }
   ],
   "source": [
    "p.get_page(\"www.ahbabrasolalah\",2,\"F\")"
   ]
  },
  {
   "cell_type": "code",
   "execution_count": 10,
   "metadata": {},
   "outputs": [],
   "source": [
    "c=p.driver.find_elements_by_xpath(\".//div[@class='du4w35lb k4urcfbm l9j0dhe7 sjgh65i0']\")"
   ]
  },
  {
   "cell_type": "code",
   "execution_count": 10,
   "metadata": {},
   "outputs": [],
   "source": [
    "p.driver.close()"
   ]
  },
  {
   "cell_type": "code",
   "execution_count": null,
   "metadata": {},
   "outputs": [],
   "source": [
    "import time\n",
    "from selenium import webdriver\n",
    "from selenium.webdriver.common.keys import Keys\n",
    "body = p.driver.find_element_by_tag_name('body')\n",
    "for _ in range(100):\n",
    "   body.send_keys(Keys.PAGE_DOWN)\n",
    "   time.sleep(0.2)"
   ]
  },
  {
   "cell_type": "code",
   "execution_count": null,
   "metadata": {},
   "outputs": [],
   "source": [
    "SCROLL_PAUSE_TIME = 3\n",
    "\n",
    "# Get scroll height\n",
    "last_height = p.driver.execute_script(\"return document.body.scrollHeight\")\n",
    "\n",
    "while True:\n",
    "    # Scroll down to bottom\n",
    "    p.driver.execute_script(\"window.scrollTo(0, document.body.scrollHeight);\")\n",
    "\n",
    "    # Wait to load page\n",
    "    time.sleep(SCROLL_PAUSE_TIME)\n",
    "\n",
    "    # Calculate new scroll height and compare with last scroll height\n",
    "    new_height = p.driver.execute_script(\"return document.body.scrollHeight\")\n",
    "    if new_height == last_height:\n",
    "        break\n",
    "    last_height = new_height"
   ]
  }
 ],
 "metadata": {
  "kernelspec": {
   "display_name": "Python 3",
   "language": "python",
   "name": "python3"
  },
  "language_info": {
   "codemirror_mode": {
    "name": "ipython",
    "version": 3
   },
   "file_extension": ".py",
   "mimetype": "text/x-python",
   "name": "python",
   "nbconvert_exporter": "python",
   "pygments_lexer": "ipython3",
   "version": "3.8.3"
  }
 },
 "nbformat": 4,
 "nbformat_minor": 4
}
