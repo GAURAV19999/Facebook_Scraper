{
 "cells": [
  {
   "cell_type": "code",
   "execution_count": 1,
   "metadata": {},
   "outputs": [],
   "source": [
    "from facebookCrawler.myClass import *"
   ]
  },
  {
   "cell_type": "code",
   "execution_count": 2,
   "metadata": {},
   "outputs": [],
   "source": [
    "p=FacebookDriver()"
   ]
  },
  {
   "cell_type": "code",
   "execution_count": 3,
   "metadata": {},
   "outputs": [],
   "source": [
    "p.get_browser(usr=\"hamza.ghanmi56@gmail.com\",pwd=\"ahlem0\")"
   ]
  },
  {
   "cell_type": "code",
   "execution_count": 4,
   "metadata": {},
   "outputs": [
    {
     "data": {
      "text/plain": [
       "{'name': 'Radouen Hajji',\n",
       " 'Intro': \"Works at YouTube\\nStudied at E.S.E.N Manouba : Ecole Superieur de l'Economie Numerique\\nWent to ibn rochd\",\n",
       " 'friends': 0}"
      ]
     },
     "execution_count": 4,
     "metadata": {},
     "output_type": "execute_result"
    }
   ],
   "source": [
    "p.get_user_info(user_id=\"radouen.hajji\")"
   ]
  },
  {
   "cell_type": "code",
   "execution_count": 6,
   "metadata": {},
   "outputs": [
    {
     "data": {
      "text/plain": [
       "['https://scontent.ftun5-1.fna.fbcdn.net/v/t1.0-0/c0.23.206.206a/p206x206/117335927_3108236425960812_1258881486618015652_o.jpg?_nc_cat=105&_nc_sid=da31f3&_nc_ohc=3zq-Z4W8PaAAX-TXFD9&_nc_ht=scontent.ftun5-1.fna&oh=f95ccbe62cbc4999d093cc7e8feb2725&oe=5F7D1EDB',\n",
       " 'https://scontent.ftun5-1.fna.fbcdn.net/v/t1.0-0/c80.0.206.206a/p206x206/116754773_3100054890112299_4359019110975476218_o.jpg?_nc_cat=100&_nc_sid=da31f3&_nc_ohc=ZFeMhLKXrVUAX99Aahc&_nc_ht=scontent.ftun5-1.fna&oh=545ccd6138593d0ffa88efaa9b88a060&oe=5F7D01B4',\n",
       " 'https://scontent.ftun5-1.fna.fbcdn.net/v/t1.0-0/p206x206/80670004_2565458270238633_7205321330013503488_o.jpg?_nc_cat=105&_nc_sid=da31f3&_nc_ohc=-ExxqyN43RwAX-dzHV9&_nc_oc=AQnVbz3hLaiMiATEODBNMhspzgdZTMymApbwBD6jxRYfyTqQXMVHHHLiLz5d6-F_NaY&_nc_ht=scontent.ftun5-1.fna&tp=6&oh=e3e6f7c1dad731eb1aad3bcbbcfa108a&oe=5F7FF288',\n",
       " 'https://scontent.ftun5-1.fna.fbcdn.net/v/t1.0-0/c0.0.206.206a/p206x206/49666992_1962943253823474_323609018201276416_n.jpg?_nc_cat=109&_nc_sid=da31f3&_nc_ohc=lv9XMAT70cYAX-kYX5Q&_nc_ht=scontent.ftun5-1.fna&oh=23e0c536e3a7788ac1c63d89d6cf3507&oe=5F7EC7B0',\n",
       " 'https://scontent.ftun5-1.fna.fbcdn.net/v/t1.0-0/c0.23.206.206a/p206x206/49251665_1959438294173970_6848940212400160768_o.jpg?_nc_cat=101&_nc_sid=da31f3&_nc_ohc=ILI0GKSBchcAX-O-4SW&_nc_oc=AQleFUnMuIoCuRIF86khpOnfMHtg7yU4Ae0SG5mnMqnkemEXkkJVMeMQ6fSKBZ5fhSA&_nc_ht=scontent.ftun5-1.fna&oh=3f61173326f5a0c456b594ad45a2c580&oe=5F7E23C9',\n",
       " 'https://scontent.ftun5-1.fna.fbcdn.net/v/t1.0-0/c0.0.206.206a/p206x206/41968161_1813742672076867_381320390678413312_o.jpg?_nc_cat=100&_nc_sid=da31f3&_nc_ohc=sf2WVVd0_IMAX8UoHux&_nc_ht=scontent.ftun5-1.fna&oh=608a4146c8831fc80965b88a5be45859&oe=5F7F6F88',\n",
       " 'https://scontent.ftun5-1.fna.fbcdn.net/v/t1.0-0/c10.0.204.204a/p235x165/40911490_1798025020315299_6204680884478541824_n.jpg?_nc_cat=109&_nc_sid=da31f3&_nc_ohc=PLX7Hf8tUmwAX-TuHQq&_nc_ht=scontent.ftun5-1.fna&oh=5ad71fd6a636d81ee6f6ff24624c408f&oe=5F7C98A9',\n",
       " 'https://scontent.ftun5-1.fna.fbcdn.net/v/t1.0-0/c34.0.206.206a/p206x206/36509823_1698564006928068_1924720990189780992_o.jpg?_nc_cat=101&_nc_sid=da31f3&_nc_ohc=G9z3LrIw7DEAX83_YAm&_nc_ht=scontent.ftun5-1.fna&oh=f1bc6286e9859d8849e3f13e5bc193c7&oe=5F7CE417']"
      ]
     },
     "execution_count": 6,
     "metadata": {},
     "output_type": "execute_result"
    }
   ],
   "source": [
    "p.get_images(user_id=\"radouen.hajji\",n=10)"
   ]
  },
  {
   "cell_type": "code",
   "execution_count": 7,
   "metadata": {},
   "outputs": [
    {
     "data": {
      "text/plain": [
       "('May 22\\nBirth Date', 'Male')"
      ]
     },
     "execution_count": 7,
     "metadata": {},
     "output_type": "execute_result"
    }
   ],
   "source": [
    "p.get_basic_info(user_id=\"radouen.hajji\")"
   ]
  },
  {
   "cell_type": "code",
   "execution_count": 8,
   "metadata": {},
   "outputs": [
    {
     "data": {
      "text/plain": [
       "{'post1': {'user': 'Radouen Hajji',\n",
       "  'date': 'August 5',\n",
       "  'contenu': 'Monkey.D.Luffy',\n",
       "  'image': 'https://scontent.ftun5-1.fna.fbcdn.net/v/t1.0-0/p526x296/117335927_3108236425960812_1258881486618015652_o.jpg?_nc_cat=105&_nc_sid=8bfeb9&_nc_ohc=3zq-Z4W8PaAAX-TXFD9&_nc_ht=scontent.ftun5-1.fna&tp=6&oh=369a2c21eee63480bb63feed51072cd3&oe=5F7EFDDE',\n",
       "  'nb_reaction': '10',\n",
       "  'nb_comment': '3 Comments'},\n",
       " 'post2': {'user': 'Radouen Hajji',\n",
       "  'date': 'August 2',\n",
       "  'contenu': 'Beginning With Illustrator\\nTrying To draw anime Character\\n#IZUKU MIDORIYA',\n",
       "  'image': 'https://scontent.ftun5-1.fna.fbcdn.net/v/t1.0-0/p180x540/116754773_3100054890112299_4359019110975476218_o.jpg?_nc_cat=100&_nc_sid=730e14&_nc_ohc=ZFeMhLKXrVUAX99Aahc&_nc_ht=scontent.ftun5-1.fna&tp=6&oh=1eaf9d06bd6c60a0a70886e98a0147de&oe=5F7E4CC3',\n",
       "  'nb_reaction': '10',\n",
       "  'nb_comment': '4 Comments'},\n",
       " 'post3': {'user': 'Radouen Hajji',\n",
       "  'date': 'July 31',\n",
       "  'contenu': '',\n",
       "  'image': 'No image',\n",
       "  'nb_reaction': '21',\n",
       "  'nb_comment': '2 Comments'},\n",
       " 'post4': {'user': 'Radouen Hajji',\n",
       "  'date': 'July 29',\n",
       "  'contenu': '',\n",
       "  'image': 'No image',\n",
       "  'nb_reaction': '57',\n",
       "  'nb_comment': '41 Comments'}}"
      ]
     },
     "execution_count": 8,
     "metadata": {},
     "output_type": "execute_result"
    }
   ],
   "source": [
    "p.get_publications(user_id=\"radouen.hajji\",comments=\"F\",n=4)"
   ]
  },
  {
   "cell_type": "code",
   "execution_count": 9,
   "metadata": {},
   "outputs": [
    {
     "data": {
      "text/plain": [
       "[{'name': 'JaNe AbaygarLOVING MY HUSBAND',\n",
       "  'date': 'Aug 31\\n  ·\\n  ·',\n",
       "  'content': 'Aug 31\\n  ·\\n  · Ilove my husband as long as he loves me, he is my everything and life is nothing without him,'},\n",
       " {'name': 'Loving',\n",
       "  'date': 'Aug 26\\n  ·\\n  ·',\n",
       "  'content': \"Aug 26\\n  ·\\n  · …to find out how to watch Loving for free all week. #afimovieclub #blackstoriesmatter\\nAmerican Film Institute's post\\nWe promise that you’ll fall madly in love with today’s film of the day.❤️ Go to AFI.com/MovieClub to find out how to watch Loving for free all week. #afimovieclub #blackstoriesmatter\"},\n",
       " {'name': 'Loving',\n",
       "  'date': 'Aug 25\\n  ·\\n  ·',\n",
       "  'content': \"Aug 25\\n  ·\\n  · Noughts + Crosses | Trailer\\n  · There is strength in difference. Can Sephy and Callum's love conquer all? Noughts + Crosses is streaming for FREE starting in September on Peacock TV.\"},\n",
       " {'name': 'Loving',\n",
       "  'date': 'Aug 24\\n  ·\\n  ·',\n",
       "  'content': \"Aug 24\\n  ·\\n  · …to BLACKKKLANSMAN, GET OUT, GIRLS TRIP, LOVING & STRAIGHT OUTTA COMPTON w/ free digital movie rentals through 8/30. Go to AFI.com/MovieClub for info.\\n  · AFI Movie Club's “Black Stories Matter”\"},\n",
       " {'name': 'Mary Immaculate ConceptionMary Immaculate Conception',\n",
       "  'date': 'Aug 16\\n  ·\\n  ·',\n",
       "  'content': 'Aug 16\\n  ·\\n  · …able to go to the tomb of my most loving mother and give one last kiss to those holy hands that blessed me so many times. And Pedro accepted. They all went to the Holy Sepulcher, and when they were close they began to feel again very soft aromas in the environment and harmonious music in the air. They opened the tomb and instead of seeing the body of the Virgin they only found… a great quantity of very beautiful flowers. Jesus Christ had come, He had raised His Blessed Mother and taken her to heaven. This is what we call The Assumption of the Virgin Mary. And who of us, if he had the powers of the Son of God, would not have done the same with his own Mother? \" Blessed Mother Mary\\'s statue cries Blood tears for us.. A must watch.. Share as much you can. Repent and Pray.. Click on the link below to watch :https://youtu.be/bphwA3sdB5I'},\n",
       " {'name': 'Ziba Gulley',\n",
       "  'date': 'Aug 7\\n  ·\\n  ·',\n",
       "  'content': 'Aug 7\\n  ·\\n  · Loving this Music 💙✨ #zayxfam #dubai\\n  · Loving this Music 💙'},\n",
       " {'name': 'Yemi Alade',\n",
       "  'date': 'Aug 18\\n  ·\\n  ·',\n",
       "  'content': 'Aug 18\\n  ·\\n  · 🔥🔥🔥 @phlexzi Loving this song : #TRUELOVE 😝😝 🎤:@yemialade 🎶: #TRUELOVE #truelovechallenge #yemialade'},\n",
       " {'name': 'Female Network',\n",
       "  'date': 'Aug 5\\n  ·\\n  ·',\n",
       "  'content': 'Aug 5\\n  ·\\n  · Loving yourself is improving yourself.\\nfemalenetwork.com\\nSelf-Improvement Tips to Help You Adopt a Happy, Productive Mindset'},\n",
       " {'name': 'Karen Salmansohn',\n",
       "  'date': 'Aug 16\\n  ·\\n  ·',\n",
       "  'content': 'Aug 16\\n  ·\\n  · Loving reminder - a note to myself. :)'}]"
      ]
     },
     "execution_count": 9,
     "metadata": {},
     "output_type": "execute_result"
    }
   ],
   "source": [
    "p.get_comment_by_key(\"loving\",10)"
   ]
  },
  {
   "cell_type": "code",
   "execution_count": 7,
   "metadata": {},
   "outputs": [],
   "source": [
    "                                                    \n",
    "c=p.driver.find_elements_by_xpath(\".//div[@class='du4w35lb k4urcfbm l9j0dhe7 sjgh65i0']\")"
   ]
  },
  {
   "cell_type": "code",
   "execution_count": 21,
   "metadata": {},
   "outputs": [
    {
     "name": "stdout",
     "output_type": "stream",
     "text": [
      "Sarah Hadji\n",
      "Sarah Hadji\n",
      "Ahmed Cherni\n",
      "Ahlem Hajji Saadani\n"
     ]
    }
   ],
   "source": [
    "data = c[1].find_elements_by_xpath(\".//div[@class='l9j0dhe7 ecm0bbzt hv4rvrfc qt6c0cv9 dati1w0a lzcic4wl btwxx1t3 j83agx80']\")\n",
    "for e in data:\n",
    "    print(e.find_element_by_xpath(\".//span[@class='pq6dq46d']\").text)"
   ]
  },
  {
   "cell_type": "code",
   "execution_count": 11,
   "metadata": {},
   "outputs": [
    {
     "data": {
      "text/plain": [
       "[['Houcem Toumi', 'Mabrouk 5ouya', '5w'],\n",
       " ['Riyad Mejri', 'Félicitations', '5w'],\n",
       " ['Thouraya Romdhani',\n",
       "  'Mohamed Mkadmi chou chkoun njah ...haya mabrouuuk',\n",
       "  '5w'],\n",
       " ['Fedi Nawar', 'mabrouk mabrouk avance avance', '5w'],\n",
       " ['Ahlem Hajji Saadani',\n",
       "  'الف الف مبروك لولدي وخويا وبابا وروحي والعاقبة للتخرج',\n",
       "  '5w'],\n",
       " ['Ahmed Belghuith', 'ان شاء الله ألف مبروك', '5w'],\n",
       " ['Ahlem Hajji Saadani', '', '5w'],\n",
       " ['Ahlem Hajji Saadani', '', '5w'],\n",
       " ['Rim Boukari', 'Mabrouuuk', '5w'],\n",
       " ['Hamza Ghanmi', 'Mabrouk', '5w'],\n",
       " ['Mohamed Bouwazra', 'Mabroook', '5w'],\n",
       " ['Dorra Hadded', 'Mabrouk', '5w'],\n",
       " ['Mohamed Hachem Haouami', 'Mabrouk', '5w'],\n",
       " ['Kha Led', 'Mabrouuk khouya', '5w'],\n",
       " ['Brahmi Rania', 'Mabrouuk', '5w'],\n",
       " ['HA NA', 'Mabrouk', '5w'],\n",
       " ['Alidas Mactaris', 'الحمد لله على التوفيق.', '5w'],\n",
       " ['Raouaa Zahouani', 'Mabrouuuk', '5w'],\n",
       " ['Asma Aounallah', 'Mabrouk', '5w'],\n",
       " ['Mahjoub Aidi', 'Mes félicitations', '5w'],\n",
       " ['Karim Belarbi', 'Gongratulations', '5w'],\n",
       " ['Jïĥ Ĕñ', 'Mabrouuk', '5w'],\n",
       " ['Med Arbi Moussi', 'Mabrouuk', '5w'],\n",
       " ['Jasser Dridi', 'Mabrouuuuk bro', '5w'],\n",
       " ['Manel Dhafer', 'Félicitations radhwen et bonne continuation', '5w'],\n",
       " ['Aouadi Wiem', 'mabrouuuk', '5w'],\n",
       " ['Sarah Hadji', '', '5w'],\n",
       " ['Sarah Hadji', 'Big kiss', '5w'],\n",
       " ['Amira Ayari', 'Mabrouk', '5w'],\n",
       " ['Kaoula Aslem', 'Mabrouk', '5w'],\n",
       " ['Marwen Charef', 'Mabrouk', '5w']]"
      ]
     },
     "execution_count": 11,
     "metadata": {},
     "output_type": "execute_result"
    }
   ],
   "source": [
    "p.get_comments(c[3])"
   ]
  },
  {
   "cell_type": "code",
   "execution_count": 10,
   "metadata": {},
   "outputs": [
    {
     "data": {
      "text/plain": [
       "'25 Comments'"
      ]
     },
     "execution_count": 10,
     "metadata": {},
     "output_type": "execute_result"
    }
   ],
   "source": [
    "c[0].find_element_by_xpath(\".//div[@class='bp9cbjyn j83agx80 pfnyh3mw p1ueia1e']\").text"
   ]
  },
  {
   "cell_type": "code",
   "execution_count": 17,
   "metadata": {},
   "outputs": [],
   "source": [
    "#c[0].find_element_by_xpath(\".//div[@id='jsc_c_2k']\").text"
   ]
  },
  {
   "cell_type": "code",
   "execution_count": 19,
   "metadata": {},
   "outputs": [
    {
     "ename": "NoSuchElementException",
     "evalue": "Message: Unable to locate element: .//a[@class='oajrlxb2 gs1a9yip g5ia77u1 mtkw9kbi tlpljxtp qensuy8j ppp5ayq2 goun2846 ccm00jje s44p3ltw mk2mc5f4 rt8b4zig n8ej3o3l agehan2d sk4xxmp2 rq0escxv nhd2j8a9 q9uorilb mg4g778l btwxx1t3 pfnyh3mw p7hjln8o kvgmc6g5 cxmmr5t8 oygrvhab hcukyx3x tgvbjcpo hpfvmrgz jb3vyjys rz4wbd8a qt6c0cv9 a8nywdso l9j0dhe7 i1ao9s8h esuyzwwr f1sip0of du4w35lb lzcic4wl abiwlrkh p8dawk7l oo9gr5id']/div/svg/g\n",
     "output_type": "error",
     "traceback": [
      "\u001b[1;31m---------------------------------------------------------------------------\u001b[0m",
      "\u001b[1;31mNoSuchElementException\u001b[0m                    Traceback (most recent call last)",
      "\u001b[1;32m<ipython-input-19-579f4d9b4433>\u001b[0m in \u001b[0;36m<module>\u001b[1;34m\u001b[0m\n\u001b[1;32m----> 1\u001b[1;33m \u001b[0mp\u001b[0m\u001b[1;33m.\u001b[0m\u001b[0mdriver\u001b[0m\u001b[1;33m.\u001b[0m\u001b[0mfind_element_by_xpath\u001b[0m\u001b[1;33m(\u001b[0m\u001b[1;34m\".//a[@class='oajrlxb2 gs1a9yip g5ia77u1 mtkw9kbi tlpljxtp qensuy8j ppp5ayq2 goun2846 ccm00jje s44p3ltw mk2mc5f4 rt8b4zig n8ej3o3l agehan2d sk4xxmp2 rq0escxv nhd2j8a9 q9uorilb mg4g778l btwxx1t3 pfnyh3mw p7hjln8o kvgmc6g5 cxmmr5t8 oygrvhab hcukyx3x tgvbjcpo hpfvmrgz jb3vyjys rz4wbd8a qt6c0cv9 a8nywdso l9j0dhe7 i1ao9s8h esuyzwwr f1sip0of du4w35lb lzcic4wl abiwlrkh p8dawk7l oo9gr5id']/div/svg/g\"\u001b[0m\u001b[1;33m)\u001b[0m\u001b[1;33m\u001b[0m\u001b[1;33m\u001b[0m\u001b[0m\n\u001b[0m",
      "\u001b[1;32mc:\\users\\hamza\\appdata\\local\\programs\\python\\python38-32\\lib\\site-packages\\selenium\\webdriver\\remote\\webdriver.py\u001b[0m in \u001b[0;36mfind_element_by_xpath\u001b[1;34m(self, xpath)\u001b[0m\n\u001b[0;32m    392\u001b[0m             \u001b[0melement\u001b[0m \u001b[1;33m=\u001b[0m \u001b[0mdriver\u001b[0m\u001b[1;33m.\u001b[0m\u001b[0mfind_element_by_xpath\u001b[0m\u001b[1;33m(\u001b[0m\u001b[1;34m'//div/td[1]'\u001b[0m\u001b[1;33m)\u001b[0m\u001b[1;33m\u001b[0m\u001b[1;33m\u001b[0m\u001b[0m\n\u001b[0;32m    393\u001b[0m         \"\"\"\n\u001b[1;32m--> 394\u001b[1;33m         \u001b[1;32mreturn\u001b[0m \u001b[0mself\u001b[0m\u001b[1;33m.\u001b[0m\u001b[0mfind_element\u001b[0m\u001b[1;33m(\u001b[0m\u001b[0mby\u001b[0m\u001b[1;33m=\u001b[0m\u001b[0mBy\u001b[0m\u001b[1;33m.\u001b[0m\u001b[0mXPATH\u001b[0m\u001b[1;33m,\u001b[0m \u001b[0mvalue\u001b[0m\u001b[1;33m=\u001b[0m\u001b[0mxpath\u001b[0m\u001b[1;33m)\u001b[0m\u001b[1;33m\u001b[0m\u001b[1;33m\u001b[0m\u001b[0m\n\u001b[0m\u001b[0;32m    395\u001b[0m \u001b[1;33m\u001b[0m\u001b[0m\n\u001b[0;32m    396\u001b[0m     \u001b[1;32mdef\u001b[0m \u001b[0mfind_elements_by_xpath\u001b[0m\u001b[1;33m(\u001b[0m\u001b[0mself\u001b[0m\u001b[1;33m,\u001b[0m \u001b[0mxpath\u001b[0m\u001b[1;33m)\u001b[0m\u001b[1;33m:\u001b[0m\u001b[1;33m\u001b[0m\u001b[1;33m\u001b[0m\u001b[0m\n",
      "\u001b[1;32mc:\\users\\hamza\\appdata\\local\\programs\\python\\python38-32\\lib\\site-packages\\selenium\\webdriver\\remote\\webdriver.py\u001b[0m in \u001b[0;36mfind_element\u001b[1;34m(self, by, value)\u001b[0m\n\u001b[0;32m    974\u001b[0m                 \u001b[0mby\u001b[0m \u001b[1;33m=\u001b[0m \u001b[0mBy\u001b[0m\u001b[1;33m.\u001b[0m\u001b[0mCSS_SELECTOR\u001b[0m\u001b[1;33m\u001b[0m\u001b[1;33m\u001b[0m\u001b[0m\n\u001b[0;32m    975\u001b[0m                 \u001b[0mvalue\u001b[0m \u001b[1;33m=\u001b[0m \u001b[1;34m'[name=\"%s\"]'\u001b[0m \u001b[1;33m%\u001b[0m \u001b[0mvalue\u001b[0m\u001b[1;33m\u001b[0m\u001b[1;33m\u001b[0m\u001b[0m\n\u001b[1;32m--> 976\u001b[1;33m         return self.execute(Command.FIND_ELEMENT, {\n\u001b[0m\u001b[0;32m    977\u001b[0m             \u001b[1;34m'using'\u001b[0m\u001b[1;33m:\u001b[0m \u001b[0mby\u001b[0m\u001b[1;33m,\u001b[0m\u001b[1;33m\u001b[0m\u001b[1;33m\u001b[0m\u001b[0m\n\u001b[0;32m    978\u001b[0m             'value': value})['value']\n",
      "\u001b[1;32mc:\\users\\hamza\\appdata\\local\\programs\\python\\python38-32\\lib\\site-packages\\selenium\\webdriver\\remote\\webdriver.py\u001b[0m in \u001b[0;36mexecute\u001b[1;34m(self, driver_command, params)\u001b[0m\n\u001b[0;32m    319\u001b[0m         \u001b[0mresponse\u001b[0m \u001b[1;33m=\u001b[0m \u001b[0mself\u001b[0m\u001b[1;33m.\u001b[0m\u001b[0mcommand_executor\u001b[0m\u001b[1;33m.\u001b[0m\u001b[0mexecute\u001b[0m\u001b[1;33m(\u001b[0m\u001b[0mdriver_command\u001b[0m\u001b[1;33m,\u001b[0m \u001b[0mparams\u001b[0m\u001b[1;33m)\u001b[0m\u001b[1;33m\u001b[0m\u001b[1;33m\u001b[0m\u001b[0m\n\u001b[0;32m    320\u001b[0m         \u001b[1;32mif\u001b[0m \u001b[0mresponse\u001b[0m\u001b[1;33m:\u001b[0m\u001b[1;33m\u001b[0m\u001b[1;33m\u001b[0m\u001b[0m\n\u001b[1;32m--> 321\u001b[1;33m             \u001b[0mself\u001b[0m\u001b[1;33m.\u001b[0m\u001b[0merror_handler\u001b[0m\u001b[1;33m.\u001b[0m\u001b[0mcheck_response\u001b[0m\u001b[1;33m(\u001b[0m\u001b[0mresponse\u001b[0m\u001b[1;33m)\u001b[0m\u001b[1;33m\u001b[0m\u001b[1;33m\u001b[0m\u001b[0m\n\u001b[0m\u001b[0;32m    322\u001b[0m             response['value'] = self._unwrap_value(\n\u001b[0;32m    323\u001b[0m                 response.get('value', None))\n",
      "\u001b[1;32mc:\\users\\hamza\\appdata\\local\\programs\\python\\python38-32\\lib\\site-packages\\selenium\\webdriver\\remote\\errorhandler.py\u001b[0m in \u001b[0;36mcheck_response\u001b[1;34m(self, response)\u001b[0m\n\u001b[0;32m    240\u001b[0m                 \u001b[0malert_text\u001b[0m \u001b[1;33m=\u001b[0m \u001b[0mvalue\u001b[0m\u001b[1;33m[\u001b[0m\u001b[1;34m'alert'\u001b[0m\u001b[1;33m]\u001b[0m\u001b[1;33m.\u001b[0m\u001b[0mget\u001b[0m\u001b[1;33m(\u001b[0m\u001b[1;34m'text'\u001b[0m\u001b[1;33m)\u001b[0m\u001b[1;33m\u001b[0m\u001b[1;33m\u001b[0m\u001b[0m\n\u001b[0;32m    241\u001b[0m             \u001b[1;32mraise\u001b[0m \u001b[0mexception_class\u001b[0m\u001b[1;33m(\u001b[0m\u001b[0mmessage\u001b[0m\u001b[1;33m,\u001b[0m \u001b[0mscreen\u001b[0m\u001b[1;33m,\u001b[0m \u001b[0mstacktrace\u001b[0m\u001b[1;33m,\u001b[0m \u001b[0malert_text\u001b[0m\u001b[1;33m)\u001b[0m\u001b[1;33m\u001b[0m\u001b[1;33m\u001b[0m\u001b[0m\n\u001b[1;32m--> 242\u001b[1;33m         \u001b[1;32mraise\u001b[0m \u001b[0mexception_class\u001b[0m\u001b[1;33m(\u001b[0m\u001b[0mmessage\u001b[0m\u001b[1;33m,\u001b[0m \u001b[0mscreen\u001b[0m\u001b[1;33m,\u001b[0m \u001b[0mstacktrace\u001b[0m\u001b[1;33m)\u001b[0m\u001b[1;33m\u001b[0m\u001b[1;33m\u001b[0m\u001b[0m\n\u001b[0m\u001b[0;32m    243\u001b[0m \u001b[1;33m\u001b[0m\u001b[0m\n\u001b[0;32m    244\u001b[0m     \u001b[1;32mdef\u001b[0m \u001b[0m_value_or_default\u001b[0m\u001b[1;33m(\u001b[0m\u001b[0mself\u001b[0m\u001b[1;33m,\u001b[0m \u001b[0mobj\u001b[0m\u001b[1;33m,\u001b[0m \u001b[0mkey\u001b[0m\u001b[1;33m,\u001b[0m \u001b[0mdefault\u001b[0m\u001b[1;33m)\u001b[0m\u001b[1;33m:\u001b[0m\u001b[1;33m\u001b[0m\u001b[1;33m\u001b[0m\u001b[0m\n",
      "\u001b[1;31mNoSuchElementException\u001b[0m: Message: Unable to locate element: .//a[@class='oajrlxb2 gs1a9yip g5ia77u1 mtkw9kbi tlpljxtp qensuy8j ppp5ayq2 goun2846 ccm00jje s44p3ltw mk2mc5f4 rt8b4zig n8ej3o3l agehan2d sk4xxmp2 rq0escxv nhd2j8a9 q9uorilb mg4g778l btwxx1t3 pfnyh3mw p7hjln8o kvgmc6g5 cxmmr5t8 oygrvhab hcukyx3x tgvbjcpo hpfvmrgz jb3vyjys rz4wbd8a qt6c0cv9 a8nywdso l9j0dhe7 i1ao9s8h esuyzwwr f1sip0of du4w35lb lzcic4wl abiwlrkh p8dawk7l oo9gr5id']/div/svg/g\n"
     ]
    }
   ],
   "source": [
    "p.driver.find_element_by_xpath(\".//a[@class='oajrlxb2 gs1a9yip g5ia77u1 mtkw9kbi tlpljxtp qensuy8j ppp5ayq2 goun2846 ccm00jje s44p3ltw mk2mc5f4 rt8b4zig n8ej3o3l agehan2d sk4xxmp2 rq0escxv nhd2j8a9 q9uorilb mg4g778l btwxx1t3 pfnyh3mw p7hjln8o kvgmc6g5 cxmmr5t8 oygrvhab hcukyx3x tgvbjcpo hpfvmrgz jb3vyjys rz4wbd8a qt6c0cv9 a8nywdso l9j0dhe7 i1ao9s8h esuyzwwr f1sip0of du4w35lb lzcic4wl abiwlrkh p8dawk7l oo9gr5id']/div/svg/g\")"
   ]
  }
 ],
 "metadata": {
  "kernelspec": {
   "display_name": "Python 3",
   "language": "python",
   "name": "python3"
  },
  "language_info": {
   "codemirror_mode": {
    "name": "ipython",
    "version": 3
   },
   "file_extension": ".py",
   "mimetype": "text/x-python",
   "name": "python",
   "nbconvert_exporter": "python",
   "pygments_lexer": "ipython3",
   "version": "3.8.3"
  }
 },
 "nbformat": 4,
 "nbformat_minor": 4
}
