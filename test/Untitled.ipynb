{
 "cells": [
  {
   "cell_type": "code",
   "execution_count": 1,
   "metadata": {},
   "outputs": [],
   "source": [
    "from facebookCrawler.myClass import FacebookDriver"
   ]
  },
  {
   "cell_type": "code",
   "execution_count": 2,
   "metadata": {},
   "outputs": [],
   "source": [
    "p=FacebookDriver()"
   ]
  },
  {
   "cell_type": "code",
   "execution_count": 3,
   "metadata": {},
   "outputs": [],
   "source": [
    "p.get_browser(usr=\"\",pwd=\"\")"
   ]
  },
  {
   "cell_type": "code",
   "execution_count": 4,
   "metadata": {},
   "outputs": [
    {
     "data": {
      "text/plain": [
       "{'name': 'Radouen Hajji',\n",
       " 'Intro': \"Works at YouTube\\nStudied at E.S.E.N Manouba : Ecole Superieur de l'Economie Numerique\\nWent to ibn rochd\",\n",
       " 'friends': 0,\n",
       " 'image': 'No profile image'}"
      ]
     },
     "execution_count": 4,
     "metadata": {},
     "output_type": "execute_result"
    }
   ],
   "source": [
    "p.get_user_info(user_id=\"radouen.hajji\")"
   ]
  },
  {
   "cell_type": "code",
   "execution_count": 5,
   "metadata": {},
   "outputs": [
    {
     "name": "stdout",
     "output_type": "stream",
     "text": [
      "['https://scontent.ftun5-1.fna.fbcdn.net/v/t1.0-0/c0.23.206.206a/p206x206/117335927_3108236425960812_1258881486618015652_o.jpg?_nc_cat=105&_nc_sid=da31f3&_nc_ohc=GM96Il9BUNYAX964fCu&_nc_ht=scontent.ftun5-1.fna&oh=d282f4d40dbbc14d2f31d63bc1330023&oe=5F792A5B', 'https://scontent.ftun5-1.fna.fbcdn.net/v/t1.0-0/c80.0.206.206a/p206x206/116754773_3100054890112299_4359019110975476218_o.jpg?_nc_cat=100&_nc_sid=da31f3&_nc_ohc=BEaRDxzWHbgAX-U_a0F&_nc_ht=scontent.ftun5-1.fna&oh=61e85dc9466d9253d329eb656682be70&oe=5F790D34', 'https://scontent.ftun5-1.fna.fbcdn.net/v/t1.0-0/p206x206/80670004_2565458270238633_7205321330013503488_o.jpg?_nc_cat=105&_nc_sid=da31f3&_nc_ohc=Tk52amz1L1AAX9X55g6&_nc_oc=AQmGdHZjGZwg8mBG2POoAatXx__7MdkduLeeMFJl20gYuk67btdRj_uR5i1q9sPa2vE&_nc_ht=scontent.ftun5-1.fna&tp=6&oh=86504f5d51623c62bc88d4343a83e7ea&oe=5F780988', 'https://scontent.ftun5-1.fna.fbcdn.net/v/t1.0-0/c0.0.206.206a/p206x206/49666992_1962943253823474_323609018201276416_n.jpg?_nc_cat=109&_nc_sid=da31f3&_nc_ohc=PeVzhZ_ovH8AX95l1ID&_nc_ht=scontent.ftun5-1.fna&oh=5100e3f4202d33d098dc3266339571d2&oe=5F76DEB0', 'https://scontent.ftun5-1.fna.fbcdn.net/v/t1.0-0/c0.23.206.206a/p206x206/49251665_1959438294173970_6848940212400160768_o.jpg?_nc_cat=101&_nc_sid=da31f3&_nc_ohc=VhvkO1LRNLUAX_0Ot4_&_nc_oc=AQk99kFpyQyijqxocnf5E7mweRsRUzO5jef_6UTOKTdAFdFwxqOMU0ZqQecclDEC-PU&_nc_ht=scontent.ftun5-1.fna&oh=c12a9d604f8a68aa4d8329baa310cf39&oe=5F763AC9', 'https://scontent.ftun5-1.fna.fbcdn.net/v/t1.0-0/c0.0.206.206a/p206x206/41968161_1813742672076867_381320390678413312_o.jpg?_nc_cat=100&_nc_sid=da31f3&_nc_ohc=rsAroeSD08AAX-WHxe3&_nc_ht=scontent.ftun5-1.fna&oh=11ce0821fe92ee2138543bad8b52ac55&oe=5F778688', 'https://scontent.ftun5-1.fna.fbcdn.net/v/t1.0-0/c10.0.204.204a/p235x165/40911490_1798025020315299_6204680884478541824_n.jpg?_nc_cat=109&_nc_sid=da31f3&_nc_ohc=6vAEeKiwhDgAX-jq_Vn&_nc_ht=scontent.ftun5-1.fna&oh=1ca3506dfa5251cfad68d8f85b16f6b8&oe=5F78A429', 'https://scontent.ftun5-1.fna.fbcdn.net/v/t1.0-0/c34.0.206.206a/p206x206/36509823_1698564006928068_1924720990189780992_o.jpg?_nc_cat=101&_nc_sid=da31f3&_nc_ohc=jJZa7pye8E8AX8SzwZr&_nc_ht=scontent.ftun5-1.fna&oh=8fd03d0f6fc3b15141c57f0e6b9c4239&oe=5F78EF97']\n"
     ]
    },
    {
     "data": {
      "text/plain": [
       "['https://scontent.ftun5-1.fna.fbcdn.net/v/t1.0-0/c0.23.206.206a/p206x206/117335927_3108236425960812_1258881486618015652_o.jpg?_nc_cat=105&_nc_sid=da31f3&_nc_ohc=GM96Il9BUNYAX964fCu&_nc_ht=scontent.ftun5-1.fna&oh=d282f4d40dbbc14d2f31d63bc1330023&oe=5F792A5B',\n",
       " 'https://scontent.ftun5-1.fna.fbcdn.net/v/t1.0-0/c80.0.206.206a/p206x206/116754773_3100054890112299_4359019110975476218_o.jpg?_nc_cat=100&_nc_sid=da31f3&_nc_ohc=BEaRDxzWHbgAX-U_a0F&_nc_ht=scontent.ftun5-1.fna&oh=61e85dc9466d9253d329eb656682be70&oe=5F790D34',\n",
       " 'https://scontent.ftun5-1.fna.fbcdn.net/v/t1.0-0/p206x206/80670004_2565458270238633_7205321330013503488_o.jpg?_nc_cat=105&_nc_sid=da31f3&_nc_ohc=Tk52amz1L1AAX9X55g6&_nc_oc=AQmGdHZjGZwg8mBG2POoAatXx__7MdkduLeeMFJl20gYuk67btdRj_uR5i1q9sPa2vE&_nc_ht=scontent.ftun5-1.fna&tp=6&oh=86504f5d51623c62bc88d4343a83e7ea&oe=5F780988',\n",
       " 'https://scontent.ftun5-1.fna.fbcdn.net/v/t1.0-0/c0.0.206.206a/p206x206/49666992_1962943253823474_323609018201276416_n.jpg?_nc_cat=109&_nc_sid=da31f3&_nc_ohc=PeVzhZ_ovH8AX95l1ID&_nc_ht=scontent.ftun5-1.fna&oh=5100e3f4202d33d098dc3266339571d2&oe=5F76DEB0',\n",
       " 'https://scontent.ftun5-1.fna.fbcdn.net/v/t1.0-0/c0.23.206.206a/p206x206/49251665_1959438294173970_6848940212400160768_o.jpg?_nc_cat=101&_nc_sid=da31f3&_nc_ohc=VhvkO1LRNLUAX_0Ot4_&_nc_oc=AQk99kFpyQyijqxocnf5E7mweRsRUzO5jef_6UTOKTdAFdFwxqOMU0ZqQecclDEC-PU&_nc_ht=scontent.ftun5-1.fna&oh=c12a9d604f8a68aa4d8329baa310cf39&oe=5F763AC9',\n",
       " 'https://scontent.ftun5-1.fna.fbcdn.net/v/t1.0-0/c0.0.206.206a/p206x206/41968161_1813742672076867_381320390678413312_o.jpg?_nc_cat=100&_nc_sid=da31f3&_nc_ohc=rsAroeSD08AAX-WHxe3&_nc_ht=scontent.ftun5-1.fna&oh=11ce0821fe92ee2138543bad8b52ac55&oe=5F778688',\n",
       " 'https://scontent.ftun5-1.fna.fbcdn.net/v/t1.0-0/c10.0.204.204a/p235x165/40911490_1798025020315299_6204680884478541824_n.jpg?_nc_cat=109&_nc_sid=da31f3&_nc_ohc=6vAEeKiwhDgAX-jq_Vn&_nc_ht=scontent.ftun5-1.fna&oh=1ca3506dfa5251cfad68d8f85b16f6b8&oe=5F78A429',\n",
       " 'https://scontent.ftun5-1.fna.fbcdn.net/v/t1.0-0/c34.0.206.206a/p206x206/36509823_1698564006928068_1924720990189780992_o.jpg?_nc_cat=101&_nc_sid=da31f3&_nc_ohc=jJZa7pye8E8AX8SzwZr&_nc_ht=scontent.ftun5-1.fna&oh=8fd03d0f6fc3b15141c57f0e6b9c4239&oe=5F78EF97']"
      ]
     },
     "execution_count": 5,
     "metadata": {},
     "output_type": "execute_result"
    }
   ],
   "source": [
    "p.get_images(user_id=\"radouen.hajji\",n=10)"
   ]
  },
  {
   "cell_type": "code",
   "execution_count": 6,
   "metadata": {},
   "outputs": [
    {
     "data": {
      "text/plain": [
       "('May 22\\nBirth Date', 'Male')"
      ]
     },
     "execution_count": 6,
     "metadata": {},
     "output_type": "execute_result"
    }
   ],
   "source": [
    "p.get_basic_info(user_id=\"radouen.hajji\")"
   ]
  },
  {
   "cell_type": "code",
   "execution_count": 7,
   "metadata": {},
   "outputs": [],
   "source": [
    "p.get_publications(user_id=\"radouen.hajji\",comments=\"T\",n=2)"
   ]
  }
 ],
 "metadata": {
  "kernelspec": {
   "display_name": "Python 3",
   "language": "python",
   "name": "python3"
  },
  "language_info": {
   "codemirror_mode": {
    "name": "ipython",
    "version": 3
   },
   "file_extension": ".py",
   "mimetype": "text/x-python",
   "name": "python",
   "nbconvert_exporter": "python",
   "pygments_lexer": "ipython3",
   "version": "3.8.3"
  }
 },
 "nbformat": 4,
 "nbformat_minor": 4
}
