{
 "cells": [
  {
   "cell_type": "code",
   "execution_count": 1,
   "metadata": {},
   "outputs": [],
   "source": [
    "from facebookCrawler.myClass import *"
   ]
  },
  {
   "cell_type": "code",
   "execution_count": 2,
   "metadata": {},
   "outputs": [],
   "source": [
    "p=FacebookDriver()"
   ]
  },
  {
   "cell_type": "code",
   "execution_count": 3,
   "metadata": {},
   "outputs": [],
   "source": [
    "p.get_browser(usr=\"\",pwd=\"\")"
   ]
  },
  {
   "cell_type": "code",
   "execution_count": 5,
   "metadata": {},
   "outputs": [
    {
     "data": {
      "text/plain": [
       "{'name': 'Radouen Hajji',\n",
       " 'Intro': \"Works at YouTube\\nStudied at E.S.E.N Manouba : Ecole Superieur de l'Economie Numerique\\nWent to ibn rochd\",\n",
       " 'friends': 0}"
      ]
     },
     "execution_count": 5,
     "metadata": {},
     "output_type": "execute_result"
    }
   ],
   "source": [
    "p.get_user_info(user_id=\"radouen.hajji\")"
   ]
  },
  {
   "cell_type": "code",
   "execution_count": 7,
   "metadata": {},
   "outputs": [
    {
     "data": {
      "text/plain": [
       "['https://scontent.ftun5-1.fna.fbcdn.net/v/t1.0-0/c0.23.206.206a/p206x206/117335927_3108236425960812_1258881486618015652_o.jpg?_nc_cat=105&_nc_sid=da31f3&_nc_ohc=3zq-Z4W8PaAAX8Y5CeD&_nc_ht=scontent.ftun5-1.fna&oh=736e371e6b1293253ffe83ddad0b5b19&oe=5F7D1EDB',\n",
       " 'https://scontent.ftun5-1.fna.fbcdn.net/v/t1.0-0/c80.0.206.206a/p206x206/116754773_3100054890112299_4359019110975476218_o.jpg?_nc_cat=100&_nc_sid=da31f3&_nc_ohc=GN8Ngit7KUYAX-6mtFC&_nc_ht=scontent.ftun5-1.fna&oh=96438f4b6f57da263c89b56107b5069d&oe=5F7D01B4',\n",
       " 'https://scontent.ftun5-1.fna.fbcdn.net/v/t1.0-0/p206x206/80670004_2565458270238633_7205321330013503488_o.jpg?_nc_cat=105&_nc_sid=da31f3&_nc_ohc=-ExxqyN43RwAX9Y_yKc&_nc_oc=AQnm1LqOkT1yBJrOq-W9RmCnm1RKebuzdWIeVtvK57HYdx6aUyulwoKn5aHtHQ8GAxI&_nc_ht=scontent.ftun5-1.fna&tp=6&oh=8fc5a358a2ddff35990c2c6edd0bf3c0&oe=5F7BFE08',\n",
       " 'https://scontent.ftun5-1.fna.fbcdn.net/v/t1.0-0/c0.0.206.206a/p206x206/49666992_1962943253823474_323609018201276416_n.jpg?_nc_cat=109&_nc_sid=da31f3&_nc_ohc=a_mjuh3EbhAAX9FbNnZ&_nc_ht=scontent.ftun5-1.fna&oh=f6f76b68e447728cd71ca037a39d8fe0&oe=5F7EC7B0',\n",
       " 'https://scontent.ftun5-1.fna.fbcdn.net/v/t1.0-0/c0.23.206.206a/p206x206/49251665_1959438294173970_6848940212400160768_o.jpg?_nc_cat=101&_nc_sid=da31f3&_nc_ohc=OtHgMRuKRGsAX9Zp9Cd&_nc_oc=AQne6XWpGNxUVlv7Vzoinwjl00AJWvsdYBOFgus5N0J7yrKkZbx6yZWjQlExBIWS9Fg&_nc_ht=scontent.ftun5-1.fna&oh=ec0b4a3a4e52922db8790c609348079a&oe=5F7E23C9',\n",
       " 'https://scontent.ftun5-1.fna.fbcdn.net/v/t1.0-0/c0.0.206.206a/p206x206/41968161_1813742672076867_381320390678413312_o.jpg?_nc_cat=100&_nc_sid=da31f3&_nc_ohc=elE9ia4sFtYAX8TMiPp&_nc_ht=scontent.ftun5-1.fna&oh=8fae08e64d55acd1fe0a434bd0d5c90c&oe=5F7F6F88',\n",
       " 'https://scontent.ftun5-1.fna.fbcdn.net/v/t1.0-0/c10.0.204.204a/p235x165/40911490_1798025020315299_6204680884478541824_n.jpg?_nc_cat=109&_nc_sid=da31f3&_nc_ohc=PLX7Hf8tUmwAX_EngDi&_nc_ht=scontent.ftun5-1.fna&oh=a83cd61740c95d462cb0de170afe10a1&oe=5F7C98A9',\n",
       " 'https://scontent.ftun5-1.fna.fbcdn.net/v/t1.0-0/c34.0.206.206a/p206x206/36509823_1698564006928068_1924720990189780992_o.jpg?_nc_cat=101&_nc_sid=da31f3&_nc_ohc=G9z3LrIw7DEAX80EDBY&_nc_ht=scontent.ftun5-1.fna&oh=baffac1f9950c2c01613ff6c5ac15a3f&oe=5F7CE417',\n",
       " 'https://scontent.ftun5-1.fna.fbcdn.net/v/t1.0-0/c34.0.206.206a/p206x206/36492305_1698563843594751_7133448312195121152_o.jpg?_nc_cat=109&_nc_sid=da31f3&_nc_ohc=D4QE-tY5o6sAX-nhDrY&_nc_ht=scontent.ftun5-1.fna&oh=566d703c20e6db718ecffcf5252fe189&oe=5F7E11F5',\n",
       " 'https://scontent.ftun5-1.fna.fbcdn.net/v/t1.0-0/c34.0.206.206a/p206x206/36496408_1698563663594769_3970495405984055296_o.jpg?_nc_cat=100&_nc_sid=da31f3&_nc_ohc=4uhJWkTypU4AX9qs_4Y&_nc_ht=scontent.ftun5-1.fna&oh=606e6f95d3c324b50f4be11f71000437&oe=5F7C9839']"
      ]
     },
     "execution_count": 7,
     "metadata": {},
     "output_type": "execute_result"
    }
   ],
   "source": [
    "p.get_images(user_id=\"radouen.hajji\",n=10)"
   ]
  },
  {
   "cell_type": "code",
   "execution_count": 8,
   "metadata": {},
   "outputs": [
    {
     "data": {
      "text/plain": [
       "('May 22\\nBirth Date', 'Male')"
      ]
     },
     "execution_count": 8,
     "metadata": {},
     "output_type": "execute_result"
    }
   ],
   "source": [
    "p.get_basic_info(user_id=\"radouen.hajji\")"
   ]
  },
  {
   "cell_type": "code",
   "execution_count": 23,
   "metadata": {},
   "outputs": [
    {
     "data": {
      "text/plain": [
       "{}"
      ]
     },
     "execution_count": 23,
     "metadata": {},
     "output_type": "execute_result"
    }
   ],
   "source": [
    "p.get_publications(user_id=\"radouen.hajji\",comments=\"F\",n=2)"
   ]
  },
  {
   "cell_type": "code",
   "execution_count": 4,
   "metadata": {},
   "outputs": [
    {
     "data": {
      "text/plain": [
       "[{'name': 'ADA Condé',\n",
       "  'date': 'Aug 4\\n  ·\\n  ·',\n",
       "  'content': 'Aug 4\\n  ·\\n  · Donc Garçon Aussi Ya Son pute Quoi ?toi seul tu gères 10 meufs 😥 Mon frère tu es Avion ?😂'},\n",
       " {'name': 'Suzuki Team',\n",
       "  'date': 'Aug 19\\n  ·\\n  ·',\n",
       "  'content': 'Aug 19\\n  ·\\n  · …A LE DROIT D’ÊTRE SEXY SANS ÊTRE TRAITER DE PUTE 🤜🤛 #Suzuki #Gsxr'},\n",
       " {'name': 'Vews - RTBF',\n",
       "  'date': 'Aug 25\\n  ·\\n  ·',\n",
       "  'content': 'Aug 25\\n  ·\\n  · \"Ouais, je suis une pute et ce n\\'est pas un gros mot.\" Travailleuse du sexe et féministe, c\\'est compatible? Lola Red le défend, elle nous explique pourquoi.\\n  · Lola Red, pute et féministe'},\n",
       " {'name': 'NONDI KHA FALA',\n",
       "  'date': 'Jul 19\\n  ·\\n  ·',\n",
       "  'content': \"Jul 19\\n  ·\\n  · La pute #Marino est de retour Elle est déterminée à jamais à régler ses comptes avec #MC 🤼🤼🤼🤼🤼🤼🤼\\n  · Marino vs MC La pute Marino est de retour Le combat est loin d'être terminé Féroce comme jamais\"},\n",
       " {'name': 'TOURE HAWA PAGE',\n",
       "  'date': 'Jul 13\\n  ·\\n  ·',\n",
       "  'content': 'Jul 13\\n  ·\\n  · …bien habillément de fima kom une pute wowiii la famille bordel bougou.tori mami diakite madame vent sec 😂😂😂😂😂\\n  · Malika famille en action'},\n",
       " {'name': 'Libère-toi de tes chaînes',\n",
       "  'date': 'Aug 5\\n  ·\\n  ·',\n",
       "  'content': \"Aug 5\\n  ·\\n  · Tu sais, la vie n'est pas parfaite ! Alors oui tu vas tomber, te casser la gueule, tu vas chuter... Tu vas avoir les genoux à terre, les mains dans la poussière... Tu te feras écraser, marcher dessus... Et tu prendras des coups ! Des coups de poings, des coups de pieds, des coups de pute, des coups de tonnerre, des coups de soleil... Mais aussi des coups de cœur, des coups de foudre, des coups de merveilles, et surtout des coups d'amour, des coups de je t'aime ! Et en parlant de ça... je t'aime ❤️ ~Auteur inconnu\"},\n",
       " {'name': 'WATATA',\n",
       "  'date': 'Mar 18, 2013\\n  ·\\n  ·',\n",
       "  'content': \"Mar 18, 2013\\n  ·\\n  · WATATA C'EST ÇA !!\\n  · 🚗💨Fume la pute🚗💨 ⬇️ Pour + de contenu rejoignez ⬇️ https://www.instagram.com/watata.inc\"},\n",
       " {'name': 'Suzuki Team',\n",
       "  'date': 'Aug 12\\n  ·\\n  ·',\n",
       "  'content': 'Aug 12\\n  ·\\n  · …MASQUES DANS L’EAU BANDE DE FILS DE PUTE 🐢🖕🏼😎 #Suzuki #Team #Gsxr'}]"
      ]
     },
     "execution_count": 4,
     "metadata": {},
     "output_type": "execute_result"
    }
   ],
   "source": [
    "p.get_comment_by_key(\"pute\",10)"
   ]
  },
  {
   "cell_type": "code",
   "execution_count": 36,
   "metadata": {},
   "outputs": [],
   "source": [
    "c=p.driver.find_elements_by_xpath(\".//div[@class='rq0escxv l9j0dhe7 du4w35lb hybvsw6c ue3kfks5 pw54ja7n uo3d90p7 l82x9zwi ni8dbmo4 stjgntxs k4urcfbm sbcfpzgs']\")"
   ]
  },
  {
   "cell_type": "code",
   "execution_count": 37,
   "metadata": {},
   "outputs": [
    {
     "ename": "NoSuchElementException",
     "evalue": "Message: Unable to locate element: .//span[@class='gpro0wi8 cwj9ozl2 bzsjyuwj ja2t1vim']\n",
     "output_type": "error",
     "traceback": [
      "\u001b[1;31m---------------------------------------------------------------------------\u001b[0m",
      "\u001b[1;31mNoSuchElementException\u001b[0m                    Traceback (most recent call last)",
      "\u001b[1;32m<ipython-input-37-ea440cb9e20d>\u001b[0m in \u001b[0;36m<module>\u001b[1;34m\u001b[0m\n\u001b[1;32m----> 1\u001b[1;33m \u001b[0mnb_reaction\u001b[0m\u001b[1;33m=\u001b[0m\u001b[0mc\u001b[0m\u001b[1;33m[\u001b[0m\u001b[1;36m1\u001b[0m\u001b[1;33m]\u001b[0m\u001b[1;33m.\u001b[0m\u001b[0mfind_element_by_xpath\u001b[0m\u001b[1;33m(\u001b[0m\u001b[1;34m\".//span[@class='gpro0wi8 cwj9ozl2 bzsjyuwj ja2t1vim']\"\u001b[0m\u001b[1;33m)\u001b[0m\u001b[1;33m.\u001b[0m\u001b[0mtext\u001b[0m\u001b[1;33m\u001b[0m\u001b[1;33m\u001b[0m\u001b[0m\n\u001b[0m",
      "\u001b[1;32mc:\\users\\hamza\\appdata\\local\\programs\\python\\python38-32\\lib\\site-packages\\selenium\\webdriver\\remote\\webelement.py\u001b[0m in \u001b[0;36mfind_element_by_xpath\u001b[1;34m(self, xpath)\u001b[0m\n\u001b[0;32m    349\u001b[0m             \u001b[0melement\u001b[0m \u001b[1;33m=\u001b[0m \u001b[0melement\u001b[0m\u001b[1;33m.\u001b[0m\u001b[0mfind_element_by_xpath\u001b[0m\u001b[1;33m(\u001b[0m\u001b[1;34m'//div/td[1]'\u001b[0m\u001b[1;33m)\u001b[0m\u001b[1;33m\u001b[0m\u001b[1;33m\u001b[0m\u001b[0m\n\u001b[0;32m    350\u001b[0m         \"\"\"\n\u001b[1;32m--> 351\u001b[1;33m         \u001b[1;32mreturn\u001b[0m \u001b[0mself\u001b[0m\u001b[1;33m.\u001b[0m\u001b[0mfind_element\u001b[0m\u001b[1;33m(\u001b[0m\u001b[0mby\u001b[0m\u001b[1;33m=\u001b[0m\u001b[0mBy\u001b[0m\u001b[1;33m.\u001b[0m\u001b[0mXPATH\u001b[0m\u001b[1;33m,\u001b[0m \u001b[0mvalue\u001b[0m\u001b[1;33m=\u001b[0m\u001b[0mxpath\u001b[0m\u001b[1;33m)\u001b[0m\u001b[1;33m\u001b[0m\u001b[1;33m\u001b[0m\u001b[0m\n\u001b[0m\u001b[0;32m    352\u001b[0m \u001b[1;33m\u001b[0m\u001b[0m\n\u001b[0;32m    353\u001b[0m     \u001b[1;32mdef\u001b[0m \u001b[0mfind_elements_by_xpath\u001b[0m\u001b[1;33m(\u001b[0m\u001b[0mself\u001b[0m\u001b[1;33m,\u001b[0m \u001b[0mxpath\u001b[0m\u001b[1;33m)\u001b[0m\u001b[1;33m:\u001b[0m\u001b[1;33m\u001b[0m\u001b[1;33m\u001b[0m\u001b[0m\n",
      "\u001b[1;32mc:\\users\\hamza\\appdata\\local\\programs\\python\\python38-32\\lib\\site-packages\\selenium\\webdriver\\remote\\webelement.py\u001b[0m in \u001b[0;36mfind_element\u001b[1;34m(self, by, value)\u001b[0m\n\u001b[0;32m    656\u001b[0m                 \u001b[0mvalue\u001b[0m \u001b[1;33m=\u001b[0m \u001b[1;34m'[name=\"%s\"]'\u001b[0m \u001b[1;33m%\u001b[0m \u001b[0mvalue\u001b[0m\u001b[1;33m\u001b[0m\u001b[1;33m\u001b[0m\u001b[0m\n\u001b[0;32m    657\u001b[0m \u001b[1;33m\u001b[0m\u001b[0m\n\u001b[1;32m--> 658\u001b[1;33m         return self._execute(Command.FIND_CHILD_ELEMENT,\n\u001b[0m\u001b[0;32m    659\u001b[0m                              {\"using\": by, \"value\": value})['value']\n\u001b[0;32m    660\u001b[0m \u001b[1;33m\u001b[0m\u001b[0m\n",
      "\u001b[1;32mc:\\users\\hamza\\appdata\\local\\programs\\python\\python38-32\\lib\\site-packages\\selenium\\webdriver\\remote\\webelement.py\u001b[0m in \u001b[0;36m_execute\u001b[1;34m(self, command, params)\u001b[0m\n\u001b[0;32m    631\u001b[0m             \u001b[0mparams\u001b[0m \u001b[1;33m=\u001b[0m \u001b[1;33m{\u001b[0m\u001b[1;33m}\u001b[0m\u001b[1;33m\u001b[0m\u001b[1;33m\u001b[0m\u001b[0m\n\u001b[0;32m    632\u001b[0m         \u001b[0mparams\u001b[0m\u001b[1;33m[\u001b[0m\u001b[1;34m'id'\u001b[0m\u001b[1;33m]\u001b[0m \u001b[1;33m=\u001b[0m \u001b[0mself\u001b[0m\u001b[1;33m.\u001b[0m\u001b[0m_id\u001b[0m\u001b[1;33m\u001b[0m\u001b[1;33m\u001b[0m\u001b[0m\n\u001b[1;32m--> 633\u001b[1;33m         \u001b[1;32mreturn\u001b[0m \u001b[0mself\u001b[0m\u001b[1;33m.\u001b[0m\u001b[0m_parent\u001b[0m\u001b[1;33m.\u001b[0m\u001b[0mexecute\u001b[0m\u001b[1;33m(\u001b[0m\u001b[0mcommand\u001b[0m\u001b[1;33m,\u001b[0m \u001b[0mparams\u001b[0m\u001b[1;33m)\u001b[0m\u001b[1;33m\u001b[0m\u001b[1;33m\u001b[0m\u001b[0m\n\u001b[0m\u001b[0;32m    634\u001b[0m \u001b[1;33m\u001b[0m\u001b[0m\n\u001b[0;32m    635\u001b[0m     \u001b[1;32mdef\u001b[0m \u001b[0mfind_element\u001b[0m\u001b[1;33m(\u001b[0m\u001b[0mself\u001b[0m\u001b[1;33m,\u001b[0m \u001b[0mby\u001b[0m\u001b[1;33m=\u001b[0m\u001b[0mBy\u001b[0m\u001b[1;33m.\u001b[0m\u001b[0mID\u001b[0m\u001b[1;33m,\u001b[0m \u001b[0mvalue\u001b[0m\u001b[1;33m=\u001b[0m\u001b[1;32mNone\u001b[0m\u001b[1;33m)\u001b[0m\u001b[1;33m:\u001b[0m\u001b[1;33m\u001b[0m\u001b[1;33m\u001b[0m\u001b[0m\n",
      "\u001b[1;32mc:\\users\\hamza\\appdata\\local\\programs\\python\\python38-32\\lib\\site-packages\\selenium\\webdriver\\remote\\webdriver.py\u001b[0m in \u001b[0;36mexecute\u001b[1;34m(self, driver_command, params)\u001b[0m\n\u001b[0;32m    319\u001b[0m         \u001b[0mresponse\u001b[0m \u001b[1;33m=\u001b[0m \u001b[0mself\u001b[0m\u001b[1;33m.\u001b[0m\u001b[0mcommand_executor\u001b[0m\u001b[1;33m.\u001b[0m\u001b[0mexecute\u001b[0m\u001b[1;33m(\u001b[0m\u001b[0mdriver_command\u001b[0m\u001b[1;33m,\u001b[0m \u001b[0mparams\u001b[0m\u001b[1;33m)\u001b[0m\u001b[1;33m\u001b[0m\u001b[1;33m\u001b[0m\u001b[0m\n\u001b[0;32m    320\u001b[0m         \u001b[1;32mif\u001b[0m \u001b[0mresponse\u001b[0m\u001b[1;33m:\u001b[0m\u001b[1;33m\u001b[0m\u001b[1;33m\u001b[0m\u001b[0m\n\u001b[1;32m--> 321\u001b[1;33m             \u001b[0mself\u001b[0m\u001b[1;33m.\u001b[0m\u001b[0merror_handler\u001b[0m\u001b[1;33m.\u001b[0m\u001b[0mcheck_response\u001b[0m\u001b[1;33m(\u001b[0m\u001b[0mresponse\u001b[0m\u001b[1;33m)\u001b[0m\u001b[1;33m\u001b[0m\u001b[1;33m\u001b[0m\u001b[0m\n\u001b[0m\u001b[0;32m    322\u001b[0m             response['value'] = self._unwrap_value(\n\u001b[0;32m    323\u001b[0m                 response.get('value', None))\n",
      "\u001b[1;32mc:\\users\\hamza\\appdata\\local\\programs\\python\\python38-32\\lib\\site-packages\\selenium\\webdriver\\remote\\errorhandler.py\u001b[0m in \u001b[0;36mcheck_response\u001b[1;34m(self, response)\u001b[0m\n\u001b[0;32m    240\u001b[0m                 \u001b[0malert_text\u001b[0m \u001b[1;33m=\u001b[0m \u001b[0mvalue\u001b[0m\u001b[1;33m[\u001b[0m\u001b[1;34m'alert'\u001b[0m\u001b[1;33m]\u001b[0m\u001b[1;33m.\u001b[0m\u001b[0mget\u001b[0m\u001b[1;33m(\u001b[0m\u001b[1;34m'text'\u001b[0m\u001b[1;33m)\u001b[0m\u001b[1;33m\u001b[0m\u001b[1;33m\u001b[0m\u001b[0m\n\u001b[0;32m    241\u001b[0m             \u001b[1;32mraise\u001b[0m \u001b[0mexception_class\u001b[0m\u001b[1;33m(\u001b[0m\u001b[0mmessage\u001b[0m\u001b[1;33m,\u001b[0m \u001b[0mscreen\u001b[0m\u001b[1;33m,\u001b[0m \u001b[0mstacktrace\u001b[0m\u001b[1;33m,\u001b[0m \u001b[0malert_text\u001b[0m\u001b[1;33m)\u001b[0m\u001b[1;33m\u001b[0m\u001b[1;33m\u001b[0m\u001b[0m\n\u001b[1;32m--> 242\u001b[1;33m         \u001b[1;32mraise\u001b[0m \u001b[0mexception_class\u001b[0m\u001b[1;33m(\u001b[0m\u001b[0mmessage\u001b[0m\u001b[1;33m,\u001b[0m \u001b[0mscreen\u001b[0m\u001b[1;33m,\u001b[0m \u001b[0mstacktrace\u001b[0m\u001b[1;33m)\u001b[0m\u001b[1;33m\u001b[0m\u001b[1;33m\u001b[0m\u001b[0m\n\u001b[0m\u001b[0;32m    243\u001b[0m \u001b[1;33m\u001b[0m\u001b[0m\n\u001b[0;32m    244\u001b[0m     \u001b[1;32mdef\u001b[0m \u001b[0m_value_or_default\u001b[0m\u001b[1;33m(\u001b[0m\u001b[0mself\u001b[0m\u001b[1;33m,\u001b[0m \u001b[0mobj\u001b[0m\u001b[1;33m,\u001b[0m \u001b[0mkey\u001b[0m\u001b[1;33m,\u001b[0m \u001b[0mdefault\u001b[0m\u001b[1;33m)\u001b[0m\u001b[1;33m:\u001b[0m\u001b[1;33m\u001b[0m\u001b[1;33m\u001b[0m\u001b[0m\n",
      "\u001b[1;31mNoSuchElementException\u001b[0m: Message: Unable to locate element: .//span[@class='gpro0wi8 cwj9ozl2 bzsjyuwj ja2t1vim']\n"
     ]
    }
   ],
   "source": [
    "nb_reaction=c[1].find_element_by_xpath(\".//span[@class='gpro0wi8 cwj9ozl2 bzsjyuwj ja2t1vim']\").text"
   ]
  },
  {
   "cell_type": "code",
   "execution_count": 32,
   "metadata": {},
   "outputs": [
    {
     "data": {
      "text/plain": [
       "'10'"
      ]
     },
     "execution_count": 32,
     "metadata": {},
     "output_type": "execute_result"
    }
   ],
   "source": [
    "nb_reaction"
   ]
  },
  {
   "cell_type": "code",
   "execution_count": 34,
   "metadata": {},
   "outputs": [],
   "source": [
    "c=p.driver.find_elements_by_xpath(\".//div[@role='article']\")"
   ]
  }
 ],
 "metadata": {
  "kernelspec": {
   "display_name": "Python 3",
   "language": "python",
   "name": "python3"
  },
  "language_info": {
   "codemirror_mode": {
    "name": "ipython",
    "version": 3
   },
   "file_extension": ".py",
   "mimetype": "text/x-python",
   "name": "python",
   "nbconvert_exporter": "python",
   "pygments_lexer": "ipython3",
   "version": "3.8.3"
  }
 },
 "nbformat": 4,
 "nbformat_minor": 4
}
